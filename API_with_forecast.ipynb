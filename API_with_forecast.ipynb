{
 "cells": [
  {
   "cell_type": "markdown",
   "metadata": {},
   "source": [
    "# Wetter API"
   ]
  },
  {
   "cell_type": "code",
   "execution_count": 19,
   "metadata": {},
   "outputs": [],
   "source": [
    "import requests # Library to access URLs using Python\n",
    "import pandas as pd\n",
    "import numpy as np\n",
    "import matplotlib.pyplot as plt\n",
    "import datetime as dt\n",
    "from datetime import date, timedelta\n",
    "from datetime import datetime\n",
    "\n",
    "from sklearn.model_selection import train_test_split\n",
    "from sklearn.metrics import mean_absolute_error\n",
    "from sklearn.ensemble import RandomForestRegressor # Random Forest estimator\n"
   ]
  },
  {
   "cell_type": "markdown",
   "metadata": {},
   "source": [
    "## Get Forcast weather data"
   ]
  },
  {
   "cell_type": "markdown",
   "metadata": {},
   "source": [
    "### Get data"
   ]
  },
  {
   "cell_type": "code",
   "execution_count": 20,
   "metadata": {},
   "outputs": [],
   "source": [
    "# Build the  Querry for the URL\n",
    "def build_query_string(base_url, params_dict):\n",
    "    # Create a string of param1=value1&param2=value2&...\n",
    "    params_str = \"&\".join(f\"{k}={v}\" for k,v in params_dict.items())\n",
    "    # Concatenate this string with the base URL and return\n",
    "    return f\"{base_url}?{params_str}\""
   ]
  },
  {
   "cell_type": "code",
   "execution_count": 21,
   "metadata": {},
   "outputs": [],
   "source": [
    "# Set the API key\n",
    "api_key = \"ba6cf0fabcb9f0ec1029c1a0a7949ec4\""
   ]
  },
  {
   "cell_type": "code",
   "execution_count": 22,
   "metadata": {},
   "outputs": [],
   "source": [
    "# Set the base URL\n",
    "geo_url = \"http://api.openweathermap.org/geo/1.0/direct\"\n",
    "\n",
    "# Set the parameter to get the location\n",
    "geo_params = {\n",
    "    \"q\": \"Köln\",\n",
    "    \"appid\": api_key\n",
    "}\n",
    "\n",
    "# Create the API query URL\n",
    "query = build_query_string(geo_url, geo_params)\n",
    "\n",
    "# Obtain the data from the API call\n",
    "geo_data = requests.get(query).json()"
   ]
  },
  {
   "cell_type": "code",
   "execution_count": 23,
   "metadata": {},
   "outputs": [],
   "source": [
    "# Define the base URL of the forecast API\n",
    "forcast_url = \"https://api.openweathermap.org/data/2.5//forecast\"\n",
    "\n",
    "# Define the parameters of our query to the air pollution API\n",
    "airpol_params = {\n",
    "    \"lat\": geo_data[0][\"lat\"], # The latitude of our chosen city\n",
    "    \"lon\": geo_data[0][\"lon\"], # The longitude of our chosen city\n",
    "    \"appid\": api_key, # Our API key\n",
    "    \"units\": \"metric\"\n",
    "}\n",
    "\n",
    "weather = requests.get(build_query_string(forcast_url, airpol_params)).json()"
   ]
  },
  {
   "cell_type": "code",
   "execution_count": 24,
   "metadata": {},
   "outputs": [],
   "source": [
    "# Extract a list of relevant dictionaries\n",
    "observations_temp = []\n",
    "observations_weather = []\n",
    "\n",
    "for datapoint in weather[\"list\"]:\n",
    "    # Keep track of all temperature\n",
    "    obs_t = datapoint[\"main\"]\n",
    "    # Add the date and time to the dict\n",
    "    obs_t[\"date\"] = datapoint[\"dt\"]\n",
    "    # Add the observation to the list of observations\n",
    "    observations_temp.append(obs_t)\n",
    "\n",
    "    # Keep track of all weather data\n",
    "    obs_w = datapoint[\"weather\"][0]\n",
    "    # Add the date and time to the dict\n",
    "    obs_w[\"date\"] = datapoint[\"dt\"]\n",
    "    # Add the observation to the list of observations\n",
    "    observations_weather.append(obs_w)\n",
    "\n",
    "# Saving data from API in a Dataframe to merge\n",
    "df_t = pd.DataFrame.from_records(observations_temp)\n",
    "df_w = pd.DataFrame.from_records(observations_weather)"
   ]
  },
  {
   "cell_type": "markdown",
   "metadata": {},
   "source": [
    "### Change to hourly"
   ]
  },
  {
   "cell_type": "code",
   "execution_count": 25,
   "metadata": {},
   "outputs": [],
   "source": [
    "# Merging data and changing date formate\n",
    "df = pd.merge(df_t, df_w, how= \"right\", on = \"date\")\n",
    "df[\"date\"] = pd.to_datetime(df[\"date\"], unit=\"s\")\n",
    "\n",
    "# buildng this as hourly with cloned rows\n",
    "df_repeated = pd.concat([df]*3, ignore_index=True)\n",
    "df_repeated.loc[[0,40,80]]\n",
    "\n",
    "# Create a list to store the order of new indexs\n",
    "new_index = []\n",
    "# Changing the Dataframe to every hour\n",
    "for n in range(int(len(df_repeated)/3)):\n",
    "    new_index.append(n)\n",
    "    new_index.append(n+40)\n",
    "    new_index.append(n+80)\n",
    "\n",
    "# Reset the index\n",
    "df_repeated = df_repeated.reindex(new_index)\n",
    "df_repeated.reset_index(inplace = True, drop = True)\n",
    "\n",
    "# Getting a step by step change in temperature by usint the three hour steps and distripute the change evenly\n",
    "for n in range(int(len(df_repeated)/3)-1):\n",
    "    start_index = n*3\n",
    "    end_index = (n*3)+3\n",
    "    start = df_repeated.loc[start_index,\"temp\"]\n",
    "    end = df_repeated.loc[end_index,\"temp\"]\n",
    "    difference = end - start\n",
    "    steps = round(difference/3,2)\n",
    "    df_repeated.loc[start_index+1,\"temp\"] = df_repeated.loc[start_index,\"temp\"] + steps\n",
    "    df_repeated.loc[start_index+2,\"temp\"] = df_repeated.loc[start_index,\"temp\"] + steps + steps\n",
    "\n",
    "# Drop unimportant rows\n",
    "df_repeated = df_repeated.drop(df_repeated.iloc[:,1:9],axis = 1)"
   ]
  },
  {
   "cell_type": "code",
   "execution_count": 26,
   "metadata": {},
   "outputs": [],
   "source": [
    "# Setting the Hour intervals for the Dataframe\n",
    "for n in range(int(len(df_repeated)/3)):\n",
    "    start_index = n*3\n",
    "    df_repeated.loc[start_index+1,\"date\"] = df_repeated.loc[start_index,\"date\"] + timedelta(hours=1)\n",
    "    df_repeated.loc[start_index+2,\"date\"] = df_repeated.loc[start_index,\"date\"] + timedelta(hours=2)\n",
    "\n",
    "# Splitting the date and time for a merge\n",
    "df_repeated[\"date\"] = df_repeated[\"date\"].astype(str)\n",
    "df_repeated[[\"date\", \"time\"]] = df_repeated[\"date\"].str.split(\" \", n=1, expand=True)\n",
    "df_repeated\n",
    "\n",
    "# Get Column with months\n",
    "df_repeated[\"months\"] = df_repeated[\"date\"].str.slice(5, 7)\n",
    "\n",
    "# Transform time to hours\n",
    "df_repeated[\"hour\"] = df_repeated[\"time\"].str.slice(0, 2)"
   ]
  },
  {
   "cell_type": "markdown",
   "metadata": {},
   "source": [
    "### Future School Holiday"
   ]
  },
  {
   "cell_type": "code",
   "execution_count": 27,
   "metadata": {},
   "outputs": [],
   "source": [
    "# Import Dataframe from the holidays\n",
    "future_school_holi = pd.read_csv(\"future_school_holiday.csv\", sep = \";\")\n",
    "days_df_list = []\n",
    "\n",
    "# Create dataframe with all dates singular listed \n",
    "for i in range(future_school_holi.shape[0]):\n",
    "    # Get the start and enddate from the holidays\n",
    "    start_date = datetime.strptime(future_school_holi[\"Erster Ferientag\"][i], \"%Y-%m-%d\").date()\n",
    "    end_date = datetime.strptime(future_school_holi[\"Letzter Ferientag\"][i], \"%Y-%m-%d\").date()\n",
    "\n",
    "    # Create dataframes out of the range and append to a list\n",
    "    delta = end_date - start_date\n",
    "    days = [start_date + timedelta(days=n) for n in range(delta.days + 1)]\n",
    "    days_df = pd.DataFrame (days, columns = [\"date\"])\n",
    "    days_df_list.append(days_df)\n",
    "\n",
    "# Create single dataframe out of the list and add value 1 for holiday\n",
    "new_holi = pd.concat(days_df_list).reset_index(drop=True)\n",
    "new_holi[\"school holiday\"] = 1\n",
    "\n",
    "# Chagne to str for merge\n",
    "new_holi[\"date\"] = new_holi[\"date\"].astype(str)"
   ]
  },
  {
   "cell_type": "code",
   "execution_count": 28,
   "metadata": {},
   "outputs": [],
   "source": [
    "# Merging the weather data an the holidays\n",
    "df_merge1 = pd.merge(df_repeated, new_holi, how= \"left\", on = \"date\")\n",
    "# Filling cells with no holiday with a 0\n",
    "df_merge1[\"school holiday\"] = df_merge1[\"school holiday\"].fillna(0)\n",
    "# change float to int\n",
    "df_merge1[\"school holiday\"] = np.int64(df_merge1[\"school holiday\"].astype(int))"
   ]
  },
  {
   "cell_type": "markdown",
   "metadata": {},
   "source": [
    "### Future National Holiday"
   ]
  },
  {
   "cell_type": "code",
   "execution_count": 29,
   "metadata": {},
   "outputs": [],
   "source": [
    "# Getting the current year \n",
    "today = dt.date.today()\n",
    "year = int(today.strftime(\"%Y\"))\n",
    "\n",
    "# Putting this and the next year into a list to claculate the holidays\n",
    "this_plus_next_year = [year,year + 1]\n",
    "\n",
    "future_holidays_list = []\n",
    "\n",
    "for intput_year in this_plus_next_year:\n",
    "    # Formular for calculating easter sunday\n",
    "    k = intput_year // 100\n",
    "    m = 15 + (3 * k + 3) // 4 - (8 * k + 13) // 25\n",
    "    s = 2 - (3*k + 3) // 4\n",
    "    a = intput_year % 19\n",
    "\n",
    "    d = (19* a + m) % 30\n",
    "    r = (d + a // 11) // 29\n",
    "    og = 21 + d - r\n",
    "    sz = 7 - (intput_year + intput_year // 4 + s) % 7\n",
    "\n",
    "    oe =  7 - (og - sz) % 7\n",
    "\n",
    "    # Days for easter sunday after teh first march (because daytime starts at first minus 1 again)\n",
    "    os = og + oe -1\n",
    "    first_march = date(intput_year, 3, 1)\n",
    "\n",
    "    # Calculating the date for easter sunday\n",
    "    os_date = first_march + timedelta(days=os)\n",
    "\n",
    "\n",
    "    # The flexible holidays calculated from easter sunday\n",
    "    karfreitag = os_date - timedelta(days=2)\n",
    "    os_date = os_date\n",
    "    easter_monday = os_date + timedelta(days=1)\n",
    "    ascension = os_date + timedelta(days=39)\n",
    "    white_monday = os_date + timedelta(days=50)\n",
    "    corpus_christ = os_date + timedelta(days=60)\n",
    "\n",
    "    # The fixed holidays (for nrw)\n",
    "    new_year = date(intput_year, 1, 1)\n",
    "    day_of_work = date(intput_year, 5, 1)\n",
    "    germany_united = date(intput_year, 10, 3)\n",
    "    saints_day = date(intput_year, 11, 1)\n",
    "    first_christmas = date(intput_year, 12, 25)\n",
    "    second_christmas =date(intput_year, 11, 26)\n",
    "\n",
    "    # Creating dataframe with holidays\n",
    "    holiday_list_future = [new_year, karfreitag, os_date, easter_monday, day_of_work, ascension, white_monday, corpus_christ, germany_united, saints_day, first_christmas, second_christmas]\n",
    "    future_holidays = pd.DataFrame ({\"date\": holiday_list_future,\n",
    "                                    \"holiday\": [1 for i in range(len(holiday_list_future))]})\n",
    "    future_holidays_list.append(future_holidays)\n",
    "\n",
    "# Connect the holidays from this and the nex year\n",
    "df_future_holidays = pd.concat(future_holidays_list)"
   ]
  },
  {
   "cell_type": "code",
   "execution_count": 30,
   "metadata": {},
   "outputs": [],
   "source": [
    "# Merging the holidays with the alredy merged dataframe\n",
    "df_merge2 = pd.merge(df_merge1, df_future_holidays, how= \"left\", on = \"date\")\n",
    "# Fill no holidays with zeros\n",
    "df_merge2[\"holiday\"] = df_merge2[\"holiday\"].fillna(0)\n",
    "#change float to int\n",
    "df_merge2[\"holiday\"] = np.int64(df_merge2[\"holiday\"].astype(int))"
   ]
  },
  {
   "cell_type": "markdown",
   "metadata": {},
   "source": [
    "### Getting the training data for Pedestriants"
   ]
  },
  {
   "cell_type": "code",
   "execution_count": 31,
   "metadata": {},
   "outputs": [],
   "source": [
    "#Getting the Dataframe for the prediction without pca\n",
    "ped = pd.read_csv(\"data_clean_without_dummies.csv\", sep = \";\", index_col=0)\n",
    "#restructure month for later\n",
    "ped[\"months\"] = ped[\"months\"].astype(str)\n",
    "ped[\"months\"] = ped[\"months\"].str.zfill(2)"
   ]
  },
  {
   "cell_type": "code",
   "execution_count": 32,
   "metadata": {},
   "outputs": [],
   "source": [
    "# Putting the holidays in the last two places to mak it easier to assign the parameters for learning\n",
    "\n",
    "def reindexing(column_name, dataframe):\n",
    "    return dataframe.reindex(columns = [col for col in dataframe.columns if col != column_name] + [column_name])\n",
    "\n",
    "ped = reindexing(\"school holiday\", ped)\n",
    "ped = reindexing(\"holiday\", ped)"
   ]
  },
  {
   "cell_type": "markdown",
   "metadata": {},
   "source": [
    "### Creating dummies for the weather"
   ]
  },
  {
   "cell_type": "code",
   "execution_count": 33,
   "metadata": {},
   "outputs": [],
   "source": [
    "#Values from weather and key from pedestriant data\n",
    "######################################################\n",
    "# Because the API Used by the pedestriant count is no longer the old provider and not free, we used another API. This does not match all the Notations regarding the weather, so we had to set the Drizzle equal with Wind.\n",
    "# This is not 100% Accuarte but is also not that comon in the dataset or the API. Furthermore we had to set all other variables in Atmosphere Group (ID7xx) from the weather api besides Mist to nan. Bu since Ash, Tornados, etc. are not that comon in \n",
    "# Köln this does not have a big impact.  \n",
    "#######################################################\n",
    "dict_weather = {'rain':\"Thunderstorm\",\n",
    "                'wind':\"Drizzle\",\n",
    "                'rain':\"Rain\",\n",
    "                \"snow\":\"Snow\",\n",
    "                \"fog\":'Mist',\n",
    "                \"clear-night\":\"Clear\",\n",
    "                \"clear-day\":\"Clear\",\n",
    "                \"cloudy\":\"Clouds\",\n",
    "                \"partly-cloudy-night\":\"Clouds\",\n",
    "                \"partly-cloudy-day\":\"Clouds\",\n",
    "                }\n",
    "\n",
    "\n",
    "# Create columns with rows for zero, becuase we dont use get_dummies, to be sure it is not mixing the rows up\n",
    "def create_columns_dict(dataframe, dict_col):\n",
    "    for col_name in dict_col.values():\n",
    "        dataframe[col_name] = 0\n",
    "\n",
    "# Use the function for boath datasets\n",
    "create_columns_dict(ped, dict_weather)\n",
    "create_columns_dict(df_merge2, dict_weather)\n",
    "\n",
    "\n",
    "# Fill the according columns in both Datasets for the weather \n",
    "def fill_weather(dataframe, column, dictionary):\n",
    "    for i in range(len(dataframe)):\n",
    "        weather = dataframe.loc[i, column]\n",
    "# For pedestraints or for weather\n",
    "        value = next((v for k, v in dict_weather.items() if v == weather or k == weather), \"nan\")\n",
    "        dataframe.loc[i, value] = 1\n",
    "\n",
    "\n",
    "# Using the function for the Weather data and the Pedestirants data\n",
    "fill_weather(ped, \"weather condition\", dict_weather)\n",
    "fill_weather(df_merge2, \"main\", dict_weather)\n"
   ]
  },
  {
   "cell_type": "markdown",
   "metadata": {},
   "source": [
    "### Creating dummies for the months"
   ]
  },
  {
   "cell_type": "code",
   "execution_count": 34,
   "metadata": {},
   "outputs": [],
   "source": [
    "# Create a function to create and fill the Columns of the months\n",
    "def fill_months(data_frame, Month_list, Column):\n",
    "    for month in Month_list:\n",
    "        data_frame[month] = 0\n",
    "    for i in range(len(data_frame)):\n",
    "        month = data_frame.loc[i, Column]\n",
    "        for number_months in range(len(Month_list)):\n",
    "            number_months_str = str(number_months+1).zfill(2)\n",
    "            if month == number_months_str:\n",
    "                data_frame.loc[i, Month_list[number_months]] = 1"
   ]
  },
  {
   "cell_type": "code",
   "execution_count": 35,
   "metadata": {},
   "outputs": [],
   "source": [
    "# Create a list wiht all months\n",
    "Months = [\"January\", \"February\", \"March\", \"April\", \"May\", \"June\", \"July\", \"August\", \"September\", \"October\", \"November\", \"December\"]\n",
    "\n",
    "# Using the function for the Weather data and the Pedestirants data\n",
    "fill_months(df_merge2, Months, \"months\")\n",
    "fill_months(ped, Months, \"months\")\n"
   ]
  },
  {
   "cell_type": "markdown",
   "metadata": {},
   "source": [
    "### Creating dummies for the weekdays"
   ]
  },
  {
   "cell_type": "code",
   "execution_count": 36,
   "metadata": {},
   "outputs": [],
   "source": [
    "# Create a function to create and fill the Columns of the months\n",
    "def fill_weekdays(data_frame, Weekdays_list, Column):\n",
    "    for days in Weekdays_list:\n",
    "        data_frame[days] = 0\n",
    "    for i in range(len(data_frame)):\n",
    "        if Column == \"weekday\":\n",
    "            day = data_frame.loc[i, \"weekday\"]\n",
    "        if Column != \"weekday\":\n",
    "            day = datetime.strptime(data_frame.loc[i, \"date\"], \"%Y-%m-%d\").strftime('%A')\n",
    "        for weekday in Weekdays_list:\n",
    "            if day == weekday:\n",
    "                data_frame.loc[i, weekday] = 1\n",
    "\n"
   ]
  },
  {
   "cell_type": "code",
   "execution_count": 37,
   "metadata": {},
   "outputs": [],
   "source": [
    "#Create list with weekdays\n",
    "Weekdays = [\"Monday\",\"Tuesday\",\"Wednesday\",\"Thursday\",\"Friday\",\"Saturday\",\"Sunday\"]\n",
    "\n",
    "# Using the function for the Weather data and the Pedestirants data\n",
    "fill_weekdays(df_merge2, Weekdays, \"date\")\n",
    "fill_weekdays(ped, Weekdays, \"weekday\")\n"
   ]
  },
  {
   "cell_type": "markdown",
   "metadata": {},
   "source": [
    "### Creating dummies for the hours "
   ]
  },
  {
   "cell_type": "code",
   "execution_count": 38,
   "metadata": {},
   "outputs": [],
   "source": [
    "# Create a function to create and fill the Columns of the months\n",
    "def fill_hours(data_frame, Column):\n",
    "    # Creating columns with the hours and setting them 0\n",
    "    hour_in_day =  list(data_frame[Column].unique())\n",
    "    hour_in_day.sort()\n",
    "    for time in hour_in_day:\n",
    "      data_frame[time] = 0\n",
    "    # Going over the dataframe and changing to 1\n",
    "    for i in range(len(data_frame)):\n",
    "        time = data_frame.loc[i, Column]\n",
    "        for hour in hour_in_day:\n",
    "            if time == hour:\n",
    "                data_frame.loc[i, time] = 1"
   ]
  },
  {
   "cell_type": "code",
   "execution_count": 39,
   "metadata": {},
   "outputs": [],
   "source": [
    "# Using the function for the Weather data and the Pedestirants data\n",
    "fill_hours(df_merge2, \"time\")\n",
    "fill_hours(ped, \"time\")"
   ]
  },
  {
   "cell_type": "markdown",
   "metadata": {},
   "source": [
    "### Standardize the temperature"
   ]
  },
  {
   "cell_type": "code",
   "execution_count": 40,
   "metadata": {},
   "outputs": [],
   "source": [
    "# Use the mean and the std from the Pedestirants data\n",
    "mean_used = ped[\"temperature in ºc\"].mean()\n",
    "std_used = ped[\"temperature in ºc\"].std()\n",
    "\n",
    "# Create a function to standardize\n",
    "def standardize(df, column, mean, std):\n",
    "    df[\"temperature\"] = (df[column] - mean) / std\n",
    "\n",
    "# Using the function for the Weather data and the Pedestirants data\n",
    "standardize(ped, \"temperature in ºc\", mean_used, std_used)\n",
    "standardize(df_merge2, \"temp\", mean_used, std_used)\n",
    "\n",
    "# Save the pedestraint data\n",
    "ped.to_csv(\"Pedestriant_df_for_forecast.csv\", sep=\";\")"
   ]
  },
  {
   "cell_type": "markdown",
   "metadata": {},
   "source": [
    "## Forcasting"
   ]
  },
  {
   "cell_type": "markdown",
   "metadata": {},
   "source": [
    "### Training Data"
   ]
  },
  {
   "cell_type": "code",
   "execution_count": 41,
   "metadata": {},
   "outputs": [],
   "source": [
    "ped = pd.read_csv(\"Pedestriant_df_for_forecast.csv\", sep=\";\", index_col=0)\n",
    "# Define a X\n",
    "X = ped[ped.columns[8:]]\n",
    "# Output to predict\n",
    "y = ped[\"pedestrians count\"]\n",
    "\n",
    "\n",
    "# Define a X for the forecast\n",
    "X_forecast = df_merge2[df_merge2.columns[9:]]\n",
    "\n",
    "\n",
    "# Split the dataset into train and test sets\n",
    "Xtrain, Xtest, ytrain, ytest = train_test_split(\n",
    "    X, y, test_size=0.3, random_state=72)"
   ]
  },
  {
   "cell_type": "code",
   "execution_count": 42,
   "metadata": {},
   "outputs": [
    {
     "data": {
      "text/html": [
       "<style>#sk-container-id-1 {color: black;background-color: white;}#sk-container-id-1 pre{padding: 0;}#sk-container-id-1 div.sk-toggleable {background-color: white;}#sk-container-id-1 label.sk-toggleable__label {cursor: pointer;display: block;width: 100%;margin-bottom: 0;padding: 0.3em;box-sizing: border-box;text-align: center;}#sk-container-id-1 label.sk-toggleable__label-arrow:before {content: \"▸\";float: left;margin-right: 0.25em;color: #696969;}#sk-container-id-1 label.sk-toggleable__label-arrow:hover:before {color: black;}#sk-container-id-1 div.sk-estimator:hover label.sk-toggleable__label-arrow:before {color: black;}#sk-container-id-1 div.sk-toggleable__content {max-height: 0;max-width: 0;overflow: hidden;text-align: left;background-color: #f0f8ff;}#sk-container-id-1 div.sk-toggleable__content pre {margin: 0.2em;color: black;border-radius: 0.25em;background-color: #f0f8ff;}#sk-container-id-1 input.sk-toggleable__control:checked~div.sk-toggleable__content {max-height: 200px;max-width: 100%;overflow: auto;}#sk-container-id-1 input.sk-toggleable__control:checked~label.sk-toggleable__label-arrow:before {content: \"▾\";}#sk-container-id-1 div.sk-estimator input.sk-toggleable__control:checked~label.sk-toggleable__label {background-color: #d4ebff;}#sk-container-id-1 div.sk-label input.sk-toggleable__control:checked~label.sk-toggleable__label {background-color: #d4ebff;}#sk-container-id-1 input.sk-hidden--visually {border: 0;clip: rect(1px 1px 1px 1px);clip: rect(1px, 1px, 1px, 1px);height: 1px;margin: -1px;overflow: hidden;padding: 0;position: absolute;width: 1px;}#sk-container-id-1 div.sk-estimator {font-family: monospace;background-color: #f0f8ff;border: 1px dotted black;border-radius: 0.25em;box-sizing: border-box;margin-bottom: 0.5em;}#sk-container-id-1 div.sk-estimator:hover {background-color: #d4ebff;}#sk-container-id-1 div.sk-parallel-item::after {content: \"\";width: 100%;border-bottom: 1px solid gray;flex-grow: 1;}#sk-container-id-1 div.sk-label:hover label.sk-toggleable__label {background-color: #d4ebff;}#sk-container-id-1 div.sk-serial::before {content: \"\";position: absolute;border-left: 1px solid gray;box-sizing: border-box;top: 0;bottom: 0;left: 50%;z-index: 0;}#sk-container-id-1 div.sk-serial {display: flex;flex-direction: column;align-items: center;background-color: white;padding-right: 0.2em;padding-left: 0.2em;position: relative;}#sk-container-id-1 div.sk-item {position: relative;z-index: 1;}#sk-container-id-1 div.sk-parallel {display: flex;align-items: stretch;justify-content: center;background-color: white;position: relative;}#sk-container-id-1 div.sk-item::before, #sk-container-id-1 div.sk-parallel-item::before {content: \"\";position: absolute;border-left: 1px solid gray;box-sizing: border-box;top: 0;bottom: 0;left: 50%;z-index: -1;}#sk-container-id-1 div.sk-parallel-item {display: flex;flex-direction: column;z-index: 1;position: relative;background-color: white;}#sk-container-id-1 div.sk-parallel-item:first-child::after {align-self: flex-end;width: 50%;}#sk-container-id-1 div.sk-parallel-item:last-child::after {align-self: flex-start;width: 50%;}#sk-container-id-1 div.sk-parallel-item:only-child::after {width: 0;}#sk-container-id-1 div.sk-dashed-wrapped {border: 1px dashed gray;margin: 0 0.4em 0.5em 0.4em;box-sizing: border-box;padding-bottom: 0.4em;background-color: white;}#sk-container-id-1 div.sk-label label {font-family: monospace;font-weight: bold;display: inline-block;line-height: 1.2em;}#sk-container-id-1 div.sk-label-container {text-align: center;}#sk-container-id-1 div.sk-container {/* jupyter's `normalize.less` sets `[hidden] { display: none; }` but bootstrap.min.css set `[hidden] { display: none !important; }` so we also need the `!important` here to be able to override the default hidden behavior on the sphinx rendered scikit-learn.org. See: https://github.com/scikit-learn/scikit-learn/issues/21755 */display: inline-block !important;position: relative;}#sk-container-id-1 div.sk-text-repr-fallback {display: none;}</style><div id=\"sk-container-id-1\" class=\"sk-top-container\"><div class=\"sk-text-repr-fallback\"><pre>RandomForestRegressor(n_jobs=-1, random_state=144)</pre><b>In a Jupyter environment, please rerun this cell to show the HTML representation or trust the notebook. <br />On GitHub, the HTML representation is unable to render, please try loading this page with nbviewer.org.</b></div><div class=\"sk-container\" hidden><div class=\"sk-item\"><div class=\"sk-estimator sk-toggleable\"><input class=\"sk-toggleable__control sk-hidden--visually\" id=\"sk-estimator-id-1\" type=\"checkbox\" checked><label for=\"sk-estimator-id-1\" class=\"sk-toggleable__label sk-toggleable__label-arrow\">RandomForestRegressor</label><div class=\"sk-toggleable__content\"><pre>RandomForestRegressor(n_jobs=-1, random_state=144)</pre></div></div></div></div></div>"
      ],
      "text/plain": [
       "RandomForestRegressor(n_jobs=-1, random_state=144)"
      ]
     },
     "execution_count": 42,
     "metadata": {},
     "output_type": "execute_result"
    }
   ],
   "source": [
    "examplatory_forecast_model = RandomForestRegressor(random_state=144,n_jobs=-1)\n",
    "examplatory_forecast_model.fit(Xtrain, ytrain)"
   ]
  },
  {
   "cell_type": "code",
   "execution_count": 43,
   "metadata": {},
   "outputs": [
    {
     "name": "stdout",
     "output_type": "stream",
     "text": [
      "165.53614813040707 379.2583677352017\n"
     ]
    }
   ],
   "source": [
    "def get_mae(y_data, x_data, model):\n",
    "    mae = mean_absolute_error(y_data, model.predict(x_data))\n",
    "    return mae\n",
    "    \n",
    "mae_train = get_mae(ytrain, Xtrain, examplatory_forecast_model)\n",
    "mae_test = get_mae(ytest, Xtest, examplatory_forecast_model)\n",
    "\n",
    "print(mae_train, mae_test)"
   ]
  },
  {
   "cell_type": "code",
   "execution_count": 44,
   "metadata": {},
   "outputs": [
    {
     "data": {
      "text/plain": [
       "[<matplotlib.lines.Line2D at 0x187401f81c0>]"
      ]
     },
     "execution_count": 44,
     "metadata": {},
     "output_type": "execute_result"
    },
    {
     "data": {
      "image/png": "[encoded data removed]",
      "text/plain": [
       "<Figure size 640x480 with 1 Axes>"
      ]
     },
     "metadata": {},
     "output_type": "display_data"
    }
   ],
   "source": [
    "forecast = examplatory_forecast_model.predict(X_forecast)\n",
    "\n",
    "forecast = [int(round(item, 0)) for item in forecast]\n",
    "\n",
    "\n",
    "df_merge2[\"forecast\"] = forecast\n",
    "\n",
    "plt.plot(forecast)\n"
   ]
  }
 ],
 "metadata": {
  "kernelspec": {
   "display_name": "Python 3.10.6 ('dsf')",
   "language": "python",
   "name": "python3"
  },
  "language_info": {
   "codemirror_mode": {
    "name": "ipython",
    "version": 3
   },
   "file_extension": ".py",
   "mimetype": "text/x-python",
   "name": "python",
   "nbconvert_exporter": "python",
   "pygments_lexer": "ipython3",
   "version": "3.10.6"
  },
  "orig_nbformat": 4,
  "vscode": {
   "interpreter": {
    "hash": "3d263d15b78a78e170f08f86091fdf3477bff66b18e3e3298508eecfc9ac5163"
   }
  }
 },
 "nbformat": 4,
 "nbformat_minor": 2
}
