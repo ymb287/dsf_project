{
 "cells": [
  {
   "cell_type": "markdown",
   "metadata": {},
   "source": [
    "# Stacking Models"
   ]
  },
  {
   "cell_type": "code",
   "execution_count": 14,
   "metadata": {},
   "outputs": [],
   "source": [
    "# Import necessary packages\n",
    "import numpy as np # Numerical computation package\n",
    "import pandas as pd # Dataframe package\n",
    "import matplotlib.pyplot as plt # Plotting package\n",
    "from sklearn.model_selection import train_test_split\n",
    "from sklearn.ensemble import RandomForestRegressor # Random Forest estimator\n",
    "\n",
    "\n",
    "from sklearn.metrics import mean_absolute_error # Metrics\n",
    "from sklearn.model_selection import RandomizedSearchCV \n",
    "from sklearn.model_selection import GridSearchCV # Grid search function\n",
    "from PIL import Image\n",
    "from sklearn.linear_model import LinearRegression # OLS\n",
    "\n",
    "\n",
    "np.random.seed(1) # Set the random seed for reproduceability\n",
    "\n",
    "\n",
    "from sklearn.base import BaseEstimator, TransformerMixin, RegressorMixin, clone\n"
   ]
  },
  {
   "cell_type": "code",
   "execution_count": null,
   "metadata": {},
   "outputs": [],
   "source": []
  },
  {
   "cell_type": "code",
   "execution_count": null,
   "metadata": {},
   "outputs": [],
   "source": []
  },
  {
   "cell_type": "code",
   "execution_count": 4,
   "metadata": {},
   "outputs": [],
   "source": [
    "class AveragingModels(BaseEstimator, RegressorMixin, TransformerMixin):\n",
    "    def __init__(self, models):\n",
    "        self.models = models\n",
    "        \n",
    "    #define clones of the original models to fit the data in\n",
    "    def fit(self, Xtrain_subset, y_train_subset):\n",
    "        self.models_ = [clone(x) for x in self.models]\n",
    "        \n",
    "        # Train cloned base models\n",
    "        for model in self.models_:\n",
    "            model.fit(Xtrain_subset, y_train_subset)\n",
    "\n",
    "        return self\n",
    "    \n",
    "    #Now we do the predictions for cloned models and average them\n",
    "    def predict(self, Xtest_subset):\n",
    "        predictions = np.column_stack([\n",
    "            model.predict(Xtest_subset) for model in self.models_\n",
    "        ])\n",
    "        return np.mean(predictions, axis=1)   "
   ]
  },
  {
   "cell_type": "code",
   "execution_count": null,
   "metadata": {},
   "outputs": [],
   "source": []
  },
  {
   "cell_type": "code",
   "execution_count": null,
   "metadata": {},
   "outputs": [],
   "source": []
  },
  {
   "cell_type": "code",
   "execution_count": 40,
   "metadata": {},
   "outputs": [],
   "source": [
    "# Load the data and clean the Columns\n",
    "ped = pd.read_csv(\"data_clean_with_dummies.csv\")\n",
    "ped = ped.drop([\"time\", \"Unnamed: 0\"], axis = 1)\n",
    "\n",
    "ped_subset = ped.sample(frac=0.1, random_state=1)\n",
    "\n",
    "# Define a new X with the squared feature k = 0.99, 57+46\n",
    "X_subset = ped_subset[ped_subset.columns[57:103]]\n",
    "\n",
    "# Output to predict\n",
    "y_subset = ped_subset[\"pedestrians count\"]\n",
    "\n",
    "# Split the dataset into train and test sets\n",
    "Xtrain_subset, Xtest_subset, ytrain_subset, ytest_subset = train_test_split(\n",
    "    X_subset, y_subset, test_size=0.3, random_state=72)\n",
    "## Hyperparametertuning\n",
    "### Establish baseline\n",
    "# Initiate Random Forest with standard parameters as a basline\n",
    "forest_baseline = RandomForestRegressor()\n",
    "forest_baseline.fit(Xtrain_subset, ytrain_subset)\n",
    "\n",
    "# Measure the MAE and the Score for the test and the trining data\n",
    "rf_mae_train_baseline_subset = mean_absolute_error(ytrain_subset, forest_baseline.predict(Xtrain_subset))\n",
    "\n",
    "\n",
    "rf_mae_test_baseline_subset = mean_absolute_error(ytest_subset, forest_baseline.predict(Xtest_subset))\n",
    "rf_score_train_baseline_subset = forest_baseline.score(Xtrain_subset, ytrain_subset)\n",
    "rf_score_test_basline_subset = forest_baseline.score(Xtest_subset, ytest_subset)\n"
   ]
  },
  {
   "cell_type": "code",
   "execution_count": 21,
   "metadata": {},
   "outputs": [],
   "source": [
    "from sklearn.linear_model import ElasticNet, Lasso,  BayesianRidge, LassoLarsIC\n",
    "from sklearn.ensemble import RandomForestRegressor,  GradientBoostingRegressor\n",
    "from sklearn.kernel_ridge import KernelRidge\n",
    "from sklearn.pipeline import make_pipeline\n",
    "from sklearn.preprocessing import RobustScaler\n",
    "from sklearn.base import BaseEstimator, TransformerMixin, RegressorMixin, clone\n",
    "from sklearn.model_selection import KFold, cross_val_score, train_test_split\n",
    "from sklearn.metrics import mean_squared_error\n",
    "# import xgboost as xgb\n",
    "# import lightgbm as lgb"
   ]
  },
  {
   "cell_type": "markdown",
   "metadata": {},
   "source": []
  }
 ],
 "metadata": {
  "kernelspec": {
   "display_name": "Python 3.10.6 ('dsf')",
   "language": "python",
   "name": "python3"
  },
  "language_info": {
   "codemirror_mode": {
    "name": "ipython",
    "version": 3
   },
   "file_extension": ".py",
   "mimetype": "text/x-python",
   "name": "python",
   "nbconvert_exporter": "python",
   "pygments_lexer": "ipython3",
   "version": "3.10.6"
  },
  "orig_nbformat": 4,
  "vscode": {
   "interpreter": {
    "hash": "3d263d15b78a78e170f08f86091fdf3477bff66b18e3e3298508eecfc9ac5163"
   }
  }
 },
 "nbformat": 4,
 "nbformat_minor": 2
}
