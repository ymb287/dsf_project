{
 "cells": [
  {
   "cell_type": "code",
   "execution_count": 28,
   "metadata": {},
   "outputs": [],
   "source": [
    "import pandas as pd\n",
    "import numpy as np\n",
    "import tensorflow as tf\n",
    "import matplotlib.pyplot as plt\n",
    "import seaborn as sns\n",
    "sns.set(style=\"darkgrid\")"
   ]
  },
  {
   "cell_type": "code",
   "execution_count": 80,
   "metadata": {},
   "outputs": [],
   "source": [
    "#Define df as our Dataset and set date as our index for the Dataset\n",
    "df = pd.read_csv(\"data_clean_with_dummies.csv\")\n",
    "df = df.set_index('date')\n",
    "\n",
    "#Define X and y, with X holding the Features and y the correspoding Count of pedestrians\n",
    "#Features with PCA k=0.999 (PC1 - PC48)\n",
    "X = df[df.columns[55:103]]\n",
    "\n",
    "# The targetvariable we try to predict is the pedestrian count\n",
    "y = df[\"pedestrians count\"]"
   ]
  },
  {
   "cell_type": "code",
   "execution_count": 81,
   "metadata": {},
   "outputs": [],
   "source": [
    "from sklearn.model_selection import train_test_split\n",
    "\n",
    "# Split the dataset into train and test sets as numpy arryas (for our Neural Network)\n",
    "Xtrain, Xtest, ytrain, ytest = train_test_split(\n",
    "    X, y, test_size=0.3, random_state=72)\n",
    "\n",
    "\n",
    "from sklearn.preprocessing import StandardScaler\n",
    "#Normalize the Data\n",
    "# Scale the inputs to standardize the values of the Features\n",
    "scaler = StandardScaler()\n",
    "Xtrain = scaler.fit_transform(Xtrain)\n",
    "Xtest = scaler.fit_transform(Xtest)\n"
   ]
  },
  {
   "cell_type": "code",
   "execution_count": 32,
   "metadata": {},
   "outputs": [],
   "source": [
    "#Import Keras and layers to create a Neural Network with multiple layers\n",
    "from tensorflow import keras\n",
    "from tensorflow.keras import layers"
   ]
  },
  {
   "cell_type": "code",
   "execution_count": 33,
   "metadata": {},
   "outputs": [
    {
     "name": "stdout",
     "output_type": "stream",
     "text": [
      "Model: \"sequential_4\"\n",
      "_________________________________________________________________\n",
      " Layer (type)                Output Shape              Param #   \n",
      "=================================================================\n",
      " dense_32 (Dense)            (None, 100)               4900      \n",
      "                                                                 \n",
      " dense_33 (Dense)            (None, 50)                5050      \n",
      "                                                                 \n",
      " dense_34 (Dense)            (None, 50)                2550      \n",
      "                                                                 \n",
      " dense_35 (Dense)            (None, 50)                2550      \n",
      "                                                                 \n",
      " dense_36 (Dense)            (None, 25)                1275      \n",
      "                                                                 \n",
      " dense_37 (Dense)            (None, 25)                650       \n",
      "                                                                 \n",
      " dense_38 (Dense)            (None, 10)                260       \n",
      "                                                                 \n",
      " dense_39 (Dense)            (None, 1)                 11        \n",
      "                                                                 \n",
      "=================================================================\n",
      "Total params: 17,246\n",
      "Trainable params: 17,246\n",
      "Non-trainable params: 0\n",
      "_________________________________________________________________\n"
     ]
    }
   ],
   "source": [
    "#Define Neural Network model\n",
    "\n",
    "#Create a Keras Sequential class to hold the different layers of our Neural Network\n",
    "model = keras.Sequential()\n",
    "\n",
    "model.add(keras.Input(shape=X.shape[1])) #Add a Input layer and define the Input shape of it (which is the column lenght of the feature Dataset X)\n",
    "model.add(layers.Dense(100, activation=\"relu\")) #Add a Hidden layer with 500 Neurones with Dense. Dense takes the output from our Input layer applies a weight matrix and than applies a activation function (in this case relu).\n",
    "model.add(layers.Dense(50, activation=\"relu\")) #Add a second Hidden layer with 250 Neurones with Dense. Dense takes the output from our first hidden layer applies a weight matrix and than applies a activation function (in this case relu).\n",
    "model.add(layers.Dense(50, activation=\"relu\")) #Add a third Hidden layer with 100 Neurones with Dense. \n",
    "model.add(layers.Dense(50, activation=\"relu\")) #Add a third Hidden layer with 100 Neurones with Dense. \n",
    "model.add(layers.Dense(25, activation=\"relu\")) #Add a fourth Hidden layer with 50 Neurones with Dense. \n",
    "model.add(layers.Dense(25, activation=\"relu\")) #Add a fourth Hidden layer with 50 Neurones with Dense. \n",
    "model.add(layers.Dense(10, activation=\"relu\")) #Add a fourth Hidden layer with 50 Neurones with Dense. \n",
    "model.add(layers.Dense(1, activation=\"relu\")) # Add a output layer with 1 Neuron because we only have one output --> predicted pedestrian count\n",
    "\n",
    "model.summary()#Display an overview of the Model\n"
   ]
  },
  {
   "cell_type": "code",
   "execution_count": 41,
   "metadata": {},
   "outputs": [
    {
     "name": "stdout",
     "output_type": "stream",
     "text": [
      "Epoch 1/10\n"
     ]
    },
    {
     "name": "stderr",
     "output_type": "stream",
     "text": [
      "2022-11-24 17:44:31.070412: I tensorflow/core/grappler/optimizers/custom_graph_optimizer_registry.cc:114] Plugin optimizer for device_type GPU is enabled.\n"
     ]
    },
    {
     "name": "stdout",
     "output_type": "stream",
     "text": [
      "269/269 [==============================] - ETA: 0s - loss: 1563.3916 - mae: 1563.3916 - mse: 7451768.5000"
     ]
    },
    {
     "name": "stderr",
     "output_type": "stream",
     "text": [
      "2022-11-24 17:44:34.832816: I tensorflow/core/grappler/optimizers/custom_graph_optimizer_registry.cc:114] Plugin optimizer for device_type GPU is enabled.\n"
     ]
    },
    {
     "name": "stdout",
     "output_type": "stream",
     "text": [
      "269/269 [==============================] - 5s 14ms/step - loss: 1563.3916 - mae: 1563.3916 - mse: 7451768.5000 - val_loss: 703.7640 - val_mae: 703.7640 - val_mse: 1703374.0000\n",
      "Epoch 2/10\n",
      "269/269 [==============================] - 3s 13ms/step - loss: 647.3087 - mae: 647.3087 - mse: 1565914.7500 - val_loss: 561.8350 - val_mae: 561.8350 - val_mse: 1153592.8750\n",
      "Epoch 3/10\n",
      "269/269 [==============================] - 3s 12ms/step - loss: 500.3990 - mae: 500.3990 - mse: 1052005.6250 - val_loss: 479.6106 - val_mae: 479.6106 - val_mse: 934682.1250\n",
      "Epoch 4/10\n",
      "269/269 [==============================] - 3s 11ms/step - loss: 433.7624 - mae: 433.7624 - mse: 870441.3750 - val_loss: 442.6094 - val_mae: 442.6094 - val_mse: 863006.8125\n",
      "Epoch 5/10\n",
      "269/269 [==============================] - 3s 11ms/step - loss: 408.0481 - mae: 408.0481 - mse: 821725.0000 - val_loss: 427.1121 - val_mae: 427.1121 - val_mse: 849634.5625\n",
      "Epoch 6/10\n",
      "269/269 [==============================] - 3s 12ms/step - loss: 389.1990 - mae: 389.1990 - mse: 774084.3750 - val_loss: 399.3770 - val_mae: 399.3770 - val_mse: 793551.2500\n",
      "Epoch 7/10\n",
      "269/269 [==============================] - 3s 11ms/step - loss: 365.1717 - mae: 365.1717 - mse: 730067.9375 - val_loss: 385.0404 - val_mae: 385.0404 - val_mse: 757107.1250\n",
      "Epoch 8/10\n",
      "269/269 [==============================] - 3s 11ms/step - loss: 363.2170 - mae: 363.2170 - mse: 722352.7500 - val_loss: 375.7032 - val_mae: 375.7032 - val_mse: 743469.0625\n",
      "Epoch 9/10\n",
      "269/269 [==============================] - 3s 11ms/step - loss: 349.4673 - mae: 349.4673 - mse: 685472.0625 - val_loss: 390.0404 - val_mae: 390.0404 - val_mse: 761829.8750\n",
      "Epoch 10/10\n",
      "269/269 [==============================] - 3s 11ms/step - loss: 346.2861 - mae: 346.2861 - mse: 679358.6250 - val_loss: 385.4178 - val_mae: 385.4178 - val_mse: 751559.2500\n"
     ]
    }
   ],
   "source": [
    "#Specify the training configuration for the Neural Network\n",
    "model.compile(\n",
    "    optimizer=keras.optimizers.Adam(learning_rate=0.001),  # Optimizer that minimizes our loss function (f.e SGD or Adam) with a learning rate of 0.001\n",
    "    loss=keras.losses.mae,  # Loss function to minimize --> Mean absolute error \n",
    "    metrics=[\"mae\", \"mse\"], # List of metrics to monitor\n",
    ")\n",
    "\n",
    "#Mehrere callbacks einfügen mit learning rate von keras callbacks --> webseite\n",
    "\n",
    "history = model.fit(\n",
    "    Xtrain, # Fit the model on the train data \n",
    "    ytrain, #Fit the model on the train data \n",
    "    #batch_size=64,\n",
    "    epochs=10, # 1 epoch is one training iteration - for each epoch the Neural Network processes the entire training data \n",
    "    callbacks = tf.keras.callbacks.EarlyStopping(monitor=\"val_mae\", patience=10), #Stop training when training is no longer improving Mean absolute error of the validation data (20% of the training data) within 3 epochs (metrics)\n",
    "    validation_split=0.2, #Reserve 20% of the training data for validation at the end of each epoch \n",
    ")"
   ]
  },
  {
   "cell_type": "code",
   "execution_count": 42,
   "metadata": {},
   "outputs": [
    {
     "name": "stdout",
     "output_type": "stream",
     "text": [
      " 49/336 [===>..........................] - ETA: 0s"
     ]
    },
    {
     "name": "stderr",
     "output_type": "stream",
     "text": [
      "2022-11-24 17:45:03.529704: I tensorflow/core/grappler/optimizers/custom_graph_optimizer_registry.cc:114] Plugin optimizer for device_type GPU is enabled.\n"
     ]
    },
    {
     "name": "stdout",
     "output_type": "stream",
     "text": [
      "336/336 [==============================] - 1s 3ms/step\n",
      "144/144 [==============================] - 0s 3ms/step\n",
      "R score is : 0.9437712300360703\n"
     ]
    }
   ],
   "source": [
    "from sklearn.metrics import r2_score\n",
    "#import tensorflow_addons as tfa\n",
    "\n",
    "\n",
    "pred_train = model.predict(Xtrain)\n",
    "ypred = model.predict(Xtest)\n",
    "print(f\"R score is : {r2_score(ytest, ypred)}\")\n",
    "\n",
    "\n",
    "# mae = tf.keras.losses.MeanAbsoluteError()\n",
    "# mae(ytest, ypred).numpy()\n",
    "# print(f\"MAE is : {tf.keras.losses.MeanAbsoluteError(ytest, ypred).numpy()}\""
   ]
  },
  {
   "cell_type": "code",
   "execution_count": 43,
   "metadata": {},
   "outputs": [
    {
     "name": "stdout",
     "output_type": "stream",
     "text": [
      "MSE: 773.3195192363228\n",
      "MAE: 19.092076776332974\n"
     ]
    }
   ],
   "source": [
    "from sklearn.metrics import mean_squared_error\n",
    "from sklearn.metrics import mean_absolute_error\n",
    "from math import sqrt\n",
    "\n",
    "print(f\"MSE: {np.sqrt(mean_squared_error(ytest, ypred))}\")\n",
    "\n",
    "print(f\"MAE: {np.sqrt(mean_absolute_error(ytest,ypred))}\")"
   ]
  },
  {
   "cell_type": "code",
   "execution_count": 44,
   "metadata": {},
   "outputs": [
    {
     "name": "stdout",
     "output_type": "stream",
     "text": [
      "Evaluate on test data\n",
      "144/144 [==============================] - 1s 7ms/step - loss: 364.5074 - mae: 364.5074 - mse: 598023.0625\n",
      "336/336 [==============================] - 2s 6ms/step - loss: 352.6651 - mae: 352.6651 - mse: 679359.6875\n",
      "test loss, test acc: [364.50738525390625, 364.50738525390625, 598023.0625]\n",
      "train loss, train acc: [352.6651306152344, 352.6651306152344, 679359.6875]\n"
     ]
    },
    {
     "data": {
      "text/plain": [
       "[364.50738525390625, 364.50738525390625, 598023.0625]"
      ]
     },
     "execution_count": 44,
     "metadata": {},
     "output_type": "execute_result"
    }
   ],
   "source": [
    "# Evaluate the model on the test data using `evaluate` result is the corresponding MAE\n",
    "print(\"Evaluate on test data\")\n",
    "results = model.evaluate(Xtest, ytest)\n",
    "results_train = model.evaluate(Xtrain, ytrain)\n",
    "print(\"test loss, test acc:\", results)\n",
    "print(\"train loss, train acc:\", results_train)\n",
    "results\n",
    "\n",
    "\n",
    "######NUR ZUM ÜBERPRÜFUEN!!!!!!!!!!\n",
    "# test loss, test acc: [343.4073791503906, 343.4073791503906]\n",
    "# train loss, train acc: [321.52264404296875, 321.52264404296875]\n"
   ]
  },
  {
   "cell_type": "code",
   "execution_count": 89,
   "metadata": {},
   "outputs": [
    {
     "data": {
      "text/html": [
       "<div>\n",
       "<style scoped>\n",
       "    .dataframe tbody tr th:only-of-type {\n",
       "        vertical-align: middle;\n",
       "    }\n",
       "\n",
       "    .dataframe tbody tr th {\n",
       "        vertical-align: top;\n",
       "    }\n",
       "\n",
       "    .dataframe thead th {\n",
       "        text-align: right;\n",
       "    }\n",
       "</style>\n",
       "<table border=\"1\" class=\"dataframe\">\n",
       "  <thead>\n",
       "    <tr style=\"text-align: right;\">\n",
       "      <th></th>\n",
       "      <th>pedestrians count</th>\n",
       "    </tr>\n",
       "  </thead>\n",
       "  <tbody>\n",
       "    <tr>\n",
       "      <th>0</th>\n",
       "      <td>1450</td>\n",
       "    </tr>\n",
       "    <tr>\n",
       "      <th>1</th>\n",
       "      <td>216</td>\n",
       "    </tr>\n",
       "    <tr>\n",
       "      <th>2</th>\n",
       "      <td>1038</td>\n",
       "    </tr>\n",
       "    <tr>\n",
       "      <th>3</th>\n",
       "      <td>100</td>\n",
       "    </tr>\n",
       "    <tr>\n",
       "      <th>4</th>\n",
       "      <td>3354</td>\n",
       "    </tr>\n",
       "    <tr>\n",
       "      <th>...</th>\n",
       "      <td>...</td>\n",
       "    </tr>\n",
       "    <tr>\n",
       "      <th>4603</th>\n",
       "      <td>36</td>\n",
       "    </tr>\n",
       "    <tr>\n",
       "      <th>4604</th>\n",
       "      <td>2547</td>\n",
       "    </tr>\n",
       "    <tr>\n",
       "      <th>4605</th>\n",
       "      <td>5349</td>\n",
       "    </tr>\n",
       "    <tr>\n",
       "      <th>4606</th>\n",
       "      <td>14190</td>\n",
       "    </tr>\n",
       "    <tr>\n",
       "      <th>4607</th>\n",
       "      <td>49</td>\n",
       "    </tr>\n",
       "  </tbody>\n",
       "</table>\n",
       "<p>4608 rows × 1 columns</p>\n",
       "</div>"
      ],
      "text/plain": [
       "      pedestrians count\n",
       "0                  1450\n",
       "1                   216\n",
       "2                  1038\n",
       "3                   100\n",
       "4                  3354\n",
       "...                 ...\n",
       "4603                 36\n",
       "4604               2547\n",
       "4605               5349\n",
       "4606              14190\n",
       "4607                 49\n",
       "\n",
       "[4608 rows x 1 columns]"
      ]
     },
     "execution_count": 89,
     "metadata": {},
     "output_type": "execute_result"
    }
   ],
   "source": [
    "Xtest.shape\n",
    "ytest.shape\n",
    "dfytest = pd.DataFrame(ytest)\n",
    "dfXtest = pd.DataFrame(Xtest)\n",
    "\n",
    "dfytest.index = range(dfytest.shape[0])\n",
    "\n",
    "dfytest\n",
    "# idk = pd.concat([dfytest, dfXtest], axis=1)\n",
    "# smaller_test = idk.loc[idk[\"pedestrians count\"] >= 0]\n",
    "# smaller_test2 = smaller_test.loc[0:50, :]\n",
    "\n",
    "# smaller_y = smaller_test2[\"pedestrians count\"]\n",
    "# smaller_X = smaller_test2[smaller_test.columns[1:49]]\n",
    "# smaller_y.shape\n"
   ]
  },
  {
   "cell_type": "code",
   "execution_count": 83,
   "metadata": {},
   "outputs": [
    {
     "name": "stdout",
     "output_type": "stream",
     "text": [
      "1/1 [==============================] - 0s 22ms/step\n"
     ]
    },
    {
     "data": {
      "image/png": "[encoded data removed]",
      "text/plain": [
       "<Figure size 1200x800 with 1 Axes>"
      ]
     },
     "metadata": {},
     "output_type": "display_data"
    }
   ],
   "source": [
    "#Visualize the results predictions vs actual values\n",
    "#Create a sequenze from 0 to the row lenght of the test data in order to plot\n",
    "xs = np.linspace(0, smaller_X.shape[0], num=smaller_X.shape[0])\n",
    "\n",
    "fig, ax = plt.subplots(figsize=(12, 8))\n",
    "\n",
    "#Using the Neural Network to predict the Pedestrian count for our Xtest set in order to plot it against the actual values\n",
    "ypred = model.predict(smaller_X)\n",
    "\n",
    "plt.scatter(xs, smaller_y, color ='blue', alpha=0.9)\n",
    "\n",
    "plt.scatter(xs, ypred, color ='green', alpha=0.9)\n",
    "\n",
    "plt.show()"
   ]
  },
  {
   "cell_type": "code",
   "execution_count": 83,
   "metadata": {},
   "outputs": [
    {
     "name": "stdout",
     "output_type": "stream",
     "text": [
      "144/144 [==============================] - 1s 6ms/step - loss: 321.8750 - mae: 321.8750 - mse: 511314.0000\n"
     ]
    },
    {
     "data": {
      "text/plain": [
       "([<matplotlib.axis.XTick at 0x2d1378940>,\n",
       "  <matplotlib.axis.XTick at 0x2d137a680>,\n",
       "  <matplotlib.axis.XTick at 0x2c5fb4e80>],\n",
       " [Text(0, 0, 'Training Data'),\n",
       "  Text(1, 0, 'Validation Data'),\n",
       "  Text(2, 0, 'Test Data')])"
      ]
     },
     "execution_count": 83,
     "metadata": {},
     "output_type": "execute_result"
    },
    {
     "data": {
      "image/png": "[encoded data removed]",
      "text/plain": [
       "<Figure size 1200x800 with 3 Axes>"
      ]
     },
     "metadata": {},
     "output_type": "display_data"
    }
   ],
   "source": [
    "#Plot the MAE on the training data against the validation split of the Training data over time \n",
    "#history.history.keys()\n",
    "\n",
    "fig, axs = plt.subplots(2, figsize=(12, 8))\n",
    "\n",
    "axs[0].plot(history.history['mae'])\n",
    "axs[0].plot(history.history['val_mae'])\n",
    "#axs[0].title('model MAE')\n",
    "# axs[0].ylabel('MAE')\n",
    "# axs[0].xlabel('epoch')\n",
    "axs[0].legend(['train', 'validation split (20%)'], loc='upper left')\n",
    "\n",
    "\n",
    "# axs[1].plot(history.history['loss'])\n",
    "# axs[1].plot(history.history['val_loss'])\n",
    "# # axs[1].title('Model loss')\n",
    "# # axs[1].ylabel('loss')\n",
    "# #axs[1].xlabel('epoch')\n",
    "# axs[1].legend(['train', 'test'], loc='upper left')\n",
    "\n",
    "axs4 = axs[1].twinx()\n",
    "x_axis = np.arange(3)\n",
    "\n",
    "nameofdata = [\"Training Data\",\"Validation Data\",\"Test Data\"]\n",
    "\n",
    "f_mae = history.history[\"mae\"]\n",
    "f_val_mae = history.history[\"val_mae\"]\n",
    "f_test_mae = model.evaluate(Xtest, ytest)\n",
    "\n",
    "axs[1].bar(\"Training Data\",min(f_mae), color=\"lightskyblue\") #Display minimum mae of the training data set\n",
    "axs[1].bar(\"Validation Data\", min(f_val_mae), color=\"lightcoral\")#Display minimum mae of the validation data set\n",
    "axs[1].bar(\"Test Data\", f_test_mae[0], color=\"mediumseagreen\")#Display mae of the test data set\n",
    "axs[1].bar_label(axs[1].containers[0], label_type='edge')\n",
    "axs[1].bar_label(axs[1].containers[1], label_type='edge')\n",
    "axs[1].bar_label(axs[1].containers[2], label_type='edge')\n",
    "axs[1].set_ylim([250, 380])\n",
    "axs[1].set_title('MAE comparission')\n",
    "axs[1].set_ylabel('MAE')\n",
    "\n",
    "axs4.bar(x_axis +0.2, min(f_mse), color=\"black\")\n",
    "axs4.bar(x_axis+0.2,min(f_val_mse), color=\"red\")\n",
    "axs4.bar(x_axis+0.2, f_test_mae[2], color=\"green\")\n",
    "axs4.set_ylabel('MSE')\n",
    "\n",
    "\n",
    "plt.xticks(x_axis,nameofdata)\n",
    "\n"
   ]
  },
  {
   "cell_type": "code",
   "execution_count": 7,
   "metadata": {},
   "outputs": [
    {
     "name": "stdout",
     "output_type": "stream",
     "text": [
      "[<matplotlib.patches.Patch object at 0x106f9f970>, <matplotlib.patches.Patch object at 0x106f9ed70>, <matplotlib.patches.Patch object at 0x106f9df00>]\n"
     ]
    }
   ],
   "source": [
    "import matplotlib.patches as mpatches\n",
    "import matplotlib.pyplot as plt\n",
    "\n",
    "red_patch = mpatches.Patch(color='red', label='The red data')\n",
    "plt.legend(handles=[red_patch])"
   ]
  },
  {
   "cell_type": "code",
   "execution_count": 109,
   "metadata": {},
   "outputs": [
    {
     "name": "stdout",
     "output_type": "stream",
     "text": [
      "144/144 [==============================] - 1s 6ms/step - loss: 321.8750 - mae: 321.8750 - mse: 511314.0000\n"
     ]
    },
    {
     "data": {
      "text/plain": [
       "([<matplotlib.axis.XTick at 0x2d0e7a920>,\n",
       "  <matplotlib.axis.XTick at 0x2d0e7aa40>,\n",
       "  <matplotlib.axis.XTick at 0x2c5fcda20>],\n",
       " [Text(0, 0, 'Training Data'),\n",
       "  Text(1, 0, 'Validation Data'),\n",
       "  Text(2, 0, 'Test Data')])"
      ]
     },
     "execution_count": 109,
     "metadata": {},
     "output_type": "execute_result"
    },
    {
     "data": {
      "image/png": "[encoded data removed]",
      "text/plain": [
       "<Figure size 1200x800 with 2 Axes>"
      ]
     },
     "metadata": {},
     "output_type": "display_data"
    }
   ],
   "source": [
    "\n",
    "fig, axs = plt.subplots(figsize=(12, 8))\n",
    "axs4 = axs.twinx()\n",
    "x_axis = np.arange(3)\n",
    "\n",
    "nameofdata = [\"Training Data\",\"Validation Data\",\"Test Data\"]\n",
    "\n",
    "f_mae = history.history[\"mae\"]\n",
    "f_val_mae = history.history[\"val_mae\"]\n",
    "f_test_mae = model.evaluate(Xtest, ytest)\n",
    "\n",
    "axs.bar(x_axis[0],min(f_mae), color=\"lightskyblue\", width=0.2) #Display minimum mae of the training data set\n",
    "axs.bar(x_axis[1], min(f_val_mae), color=\"lightcoral\", width=0.2)#Display minimum mae of the validation data set\n",
    "axs.bar(x_axis[2], f_test_mae[0], color=\"mediumseagreen\", width=0.2)#Display mae of the test data set\n",
    "axs.bar_label(axs.containers[0], label_type='edge')\n",
    "axs.bar_label(axs.containers[1], label_type='edge')\n",
    "axs.bar_label(axs.containers[2], label_type='edge')\n",
    "axs.set_ylim([250, 380])\n",
    "axs.set_title('MAE comparission')\n",
    "axs.set_ylabel('MAE')\n",
    "\n",
    "axs4.bar(x_axis[0] +0.2, min(f_mse), color=\"black\", width=0.2)\n",
    "axs4.bar(x_axis[1]+0.2, min(f_val_mse), color=\"red\", width=0.2)\n",
    "axs4.bar(x_axis[2]+0.2, f_test_mae[2], color=\"green\", width=0.2)\n",
    "axs4.set_ylabel('MSE')\n",
    "\n",
    "axs4.bar_label(axs4.containers[0], label_type='edge')\n",
    "axs4.bar_label(axs4.containers[1], label_type='edge')\n",
    "axs4.bar_label(axs4.containers[2], label_type='edge')\n",
    "\n",
    "\n",
    "plt.xticks(x_axis,nameofdata)"
   ]
  },
  {
   "cell_type": "code",
   "execution_count": 99,
   "metadata": {},
   "outputs": [
    {
     "data": {
      "text/plain": [
       "531695.4375"
      ]
     },
     "execution_count": 99,
     "metadata": {},
     "output_type": "execute_result"
    }
   ],
   "source": []
  },
  {
   "cell_type": "code",
   "execution_count": 2,
   "metadata": {},
   "outputs": [
    {
     "ename": "NameError",
     "evalue": "name 'plt' is not defined",
     "output_type": "error",
     "traceback": [
      "\u001b[0;31m---------------------------------------------------------------------------\u001b[0m",
      "\u001b[0;31mNameError\u001b[0m                                 Traceback (most recent call last)",
      "\u001b[1;32m/Users/wanja/Documents/repo/dsf_project/Tensorflow_NN_exp_wanja.ipynb Zelle 12\u001b[0m in \u001b[0;36m<cell line: 2>\u001b[0;34m()\u001b[0m\n\u001b[1;32m      <a href='vscode-notebook-cell:/Users/wanja/Documents/repo/dsf_project/Tensorflow_NN_exp_wanja.ipynb#X14sZmlsZQ%3D%3D?line=0'>1</a>\u001b[0m \u001b[39m# summarize history for loss\u001b[39;00m\n\u001b[0;32m----> <a href='vscode-notebook-cell:/Users/wanja/Documents/repo/dsf_project/Tensorflow_NN_exp_wanja.ipynb#X14sZmlsZQ%3D%3D?line=1'>2</a>\u001b[0m plt\u001b[39m.\u001b[39mplot(history\u001b[39m.\u001b[39mhistory[\u001b[39m'\u001b[39m\u001b[39mloss\u001b[39m\u001b[39m'\u001b[39m])\n\u001b[1;32m      <a href='vscode-notebook-cell:/Users/wanja/Documents/repo/dsf_project/Tensorflow_NN_exp_wanja.ipynb#X14sZmlsZQ%3D%3D?line=2'>3</a>\u001b[0m plt\u001b[39m.\u001b[39mplot(history\u001b[39m.\u001b[39mhistory[\u001b[39m'\u001b[39m\u001b[39mval_loss\u001b[39m\u001b[39m'\u001b[39m])\n\u001b[1;32m      <a href='vscode-notebook-cell:/Users/wanja/Documents/repo/dsf_project/Tensorflow_NN_exp_wanja.ipynb#X14sZmlsZQ%3D%3D?line=3'>4</a>\u001b[0m plt\u001b[39m.\u001b[39mtitle(\u001b[39m'\u001b[39m\u001b[39model loss\u001b[39m\u001b[39m'\u001b[39m)\n",
      "\u001b[0;31mNameError\u001b[0m: name 'plt' is not defined"
     ]
    }
   ],
   "source": [
    "# summarize history for loss\n",
    "plt.plot(history.history['loss'])\n",
    "plt.plot(history.history['val_loss'])\n",
    "plt.title('odel loss')\n",
    "plt.ylabel('loss')\n",
    "plt.xlabel('epoch')\n",
    "plt.legend(['train', 'test'], loc='upper left')\n",
    "plt.show()"
   ]
  },
  {
   "cell_type": "code",
   "execution_count": 1,
   "metadata": {},
   "outputs": [
    {
     "ename": "NameError",
     "evalue": "name 'history' is not defined",
     "output_type": "error",
     "traceback": [
      "\u001b[0;31m---------------------------------------------------------------------------\u001b[0m",
      "\u001b[0;31mNameError\u001b[0m                                 Traceback (most recent call last)",
      "\u001b[1;32m/Users/wanja/Documents/repo/dsf_project/Tensorflow_NN_exp_wanja.ipynb Zelle 13\u001b[0m in \u001b[0;36m<cell line: 3>\u001b[0;34m()\u001b[0m\n\u001b[1;32m      <a href='vscode-notebook-cell:/Users/wanja/Documents/repo/dsf_project/Tensorflow_NN_exp_wanja.ipynb#X15sZmlsZQ%3D%3D?line=0'>1</a>\u001b[0m \u001b[39m#Compare the MAE of the training data and the validation split with the MAE on the test data\u001b[39;00m\n\u001b[1;32m      <a href='vscode-notebook-cell:/Users/wanja/Documents/repo/dsf_project/Tensorflow_NN_exp_wanja.ipynb#X15sZmlsZQ%3D%3D?line=1'>2</a>\u001b[0m \u001b[39m# summarize history for loss\u001b[39;00m\n\u001b[0;32m----> <a href='vscode-notebook-cell:/Users/wanja/Documents/repo/dsf_project/Tensorflow_NN_exp_wanja.ipynb#X15sZmlsZQ%3D%3D?line=2'>3</a>\u001b[0m f_mae \u001b[39m=\u001b[39m history\u001b[39m.\u001b[39mhistory[\u001b[39m\"\u001b[39m\u001b[39mmae\u001b[39m\u001b[39m\"\u001b[39m]\n\u001b[1;32m      <a href='vscode-notebook-cell:/Users/wanja/Documents/repo/dsf_project/Tensorflow_NN_exp_wanja.ipynb#X15sZmlsZQ%3D%3D?line=3'>4</a>\u001b[0m f_val_mae \u001b[39m=\u001b[39m history\u001b[39m.\u001b[39mhistory[\u001b[39m\"\u001b[39m\u001b[39mval_mae\u001b[39m\u001b[39m\"\u001b[39m]\n\u001b[1;32m      <a href='vscode-notebook-cell:/Users/wanja/Documents/repo/dsf_project/Tensorflow_NN_exp_wanja.ipynb#X15sZmlsZQ%3D%3D?line=4'>5</a>\u001b[0m f_test_mae \u001b[39m=\u001b[39m model\u001b[39m.\u001b[39mevaluate(Xtest, ytest)\n",
      "\u001b[0;31mNameError\u001b[0m: name 'history' is not defined"
     ]
    }
   ],
   "source": [
    "#Compare the MAE of the training data and the validation split with the MAE on the test data\n",
    "# summarize history for loss\n",
    "f_mae = history.history[\"mae\"]\n",
    "f_val_mae = history.history[\"val_mae\"]\n",
    "f_test_mae = model.evaluate(Xtest, ytest)\n",
    "\n",
    "fig, ax = plt.subplots(figsize=(12, 8))\n",
    "plt.bar(\"Training Data\",f_mae[-1])\n",
    "plt.bar(\"Validation Data\", f_val_mae[-1])\n",
    "plt.bar(\"Test Data\", f_test_mae[-1])\n",
    "plt.title('MAE comparission')\n",
    "plt.ylabel('MAE')\n",
    "plt.show()"
   ]
  },
  {
   "cell_type": "markdown",
   "metadata": {},
   "source": [
    "### Hyperparameter tuning"
   ]
  },
  {
   "cell_type": "code",
   "execution_count": 15,
   "metadata": {},
   "outputs": [
    {
     "name": "stdout",
     "output_type": "stream",
     "text": [
      "144/144 [==============================] - 1s 6ms/step - loss: 321.8750 - mae: 321.8750 - mse: 511314.0000\n"
     ]
    },
    {
     "data": {
      "text/html": [
       "<div>\n",
       "<style scoped>\n",
       "    .dataframe tbody tr th:only-of-type {\n",
       "        vertical-align: middle;\n",
       "    }\n",
       "\n",
       "    .dataframe tbody tr th {\n",
       "        vertical-align: top;\n",
       "    }\n",
       "\n",
       "    .dataframe thead tr th {\n",
       "        text-align: left;\n",
       "    }\n",
       "</style>\n",
       "<table border=\"1\" class=\"dataframe\">\n",
       "  <thead>\n",
       "    <tr>\n",
       "      <th></th>\n",
       "      <th>loss</th>\n",
       "      <th>mae</th>\n",
       "      <th>mse</th>\n",
       "    </tr>\n",
       "  </thead>\n",
       "  <tbody>\n",
       "    <tr>\n",
       "      <th>Startwerte</th>\n",
       "      <td>321.874969</td>\n",
       "      <td>321.874969</td>\n",
       "      <td>511314.0</td>\n",
       "    </tr>\n",
       "  </tbody>\n",
       "</table>\n",
       "</div>"
      ],
      "text/plain": [
       "                  loss         mae       mse\n",
       "Startwerte  321.874969  321.874969  511314.0"
      ]
     },
     "execution_count": 15,
     "metadata": {},
     "output_type": "execute_result"
    }
   ],
   "source": [
    "def evaluate_model(model, Xtest, ytest):\n",
    "    \"\"\"\n",
    "    evaluate model on test set and show results in dataframe.\n",
    "    \n",
    "    Parameters\n",
    "    ----------\n",
    "    model : keras model\n",
    "        trained keras model.\n",
    "    X_test : numpy array\n",
    "        Features of holdout set.\n",
    "    y_test : numpy array\n",
    "        Labels of holdout set.\n",
    "        \n",
    "    Returns\n",
    "    -------\n",
    "    display_df : DataFrame\n",
    "        Pandas dataframe containing evaluation results.\n",
    "    \"\"\"\n",
    "    eval_dict = model.evaluate(Xtest, ytest, return_dict=True)\n",
    "    \n",
    "    display_df = pd.DataFrame([eval_dict.values()], columns=[list(eval_dict.keys())])\n",
    "    \n",
    "    return display_df\n",
    "\n",
    "# Evaluate model on test set and add results to dataframe\n",
    "results = evaluate_model(model, Xtest, ytest)\n",
    "\n",
    "# Set index to 'Baseline'\n",
    "results.index = ['Startwerte']\n",
    "\n",
    "# Display results\n",
    "results.head()"
   ]
  },
  {
   "cell_type": "code",
   "execution_count": 258,
   "metadata": {},
   "outputs": [],
   "source": [
    "def build_model(hp):\n",
    "    model = keras.Sequential()\n",
    "    model.add(layers.Flatten())\n",
    "    model.add(\n",
    "layers.Dense(\n",
    "            # Define the hyperparameter.\n",
    "            units=hp.Int(\"units\", min_value=32, max_value=512, step=32),\n",
    "            activation=\"relu\",\n",
    "        )\n",
    "    )\n",
    "    model.add(layers.Dense(10, activation=\"relu\"))\n",
    "    model.compile(\n",
    "        optimizer=\"adam\", loss=\"mae\", metrics=[\"accuracy\"],\n",
    "    )\n",
    "    return model\n",
    "\n",
    "\n",
    "\n",
    "    odel = keras.Sequential()\n",
    "\n",
    "model.add(keras.Input(shape=X.shape[1])) #Add a Input layer and define the Input shape of it (which is the column lenght of the feature Dataset X)\n",
    "model.add(layers.Dense(100, activation=\"relu\")) #Add a Hidden layer with 500 Neurones with Dense. Dense takes the output from our Input layer applies a weight matrix and than applies a activation function (in this case relu).\n",
    "model.add(layers.Dense(50, activation=\"relu\")) #Add a second Hidden layer with 250 Neurones with Dense. Dense takes the output from our first hidden layer applies a weight matrix and than applies a activation function (in this case relu).\n",
    "model.add(layers.Dense(50, activation=\"relu\")) #Add a third Hidden layer with 100 Neurones with Dense. \n",
    "model.add(layers.Dense(50, activation=\"relu\")) #Add a third Hidden layer with 100 Neurones with Dense. \n",
    "model.add(layers.Dense(25, activation=\"relu\")) #Add a fourth Hidden layer with 50 Neurones with Dense. \n",
    "model.add(layers.Dense(25, activation=\"relu\")) #Add a fourth Hidden layer with 50 Neurones with Dense. \n",
    "model.add(layers.Dense(10, activation=\"relu\")) #Add a fourth Hidden layer with 50 Neurones with Dense. \n",
    "model.add(layers.Dense(1, activation=\"relu\")) # Add a"
   ]
  },
  {
   "cell_type": "code",
   "execution_count": 259,
   "metadata": {},
   "outputs": [
    {
     "data": {
      "text/plain": [
       "<keras.engine.sequential.Sequential at 0x3848a2e00>"
      ]
     },
     "execution_count": 259,
     "metadata": {},
     "output_type": "execute_result"
    }
   ],
   "source": [
    "import keras_tuner\n",
    "\n",
    "build_model(keras_tuner.HyperParameters())\n"
   ]
  },
  {
   "cell_type": "code",
   "execution_count": 266,
   "metadata": {},
   "outputs": [
    {
     "data": {
      "text/plain": [
       "<keras.engine.sequential.Sequential at 0x3848353f0>"
      ]
     },
     "execution_count": 266,
     "metadata": {},
     "output_type": "execute_result"
    }
   ],
   "source": [
    "def build_model(hp):\n",
    "    model = keras.Sequential()\n",
    "    model.add(layers.Flatten())\n",
    "    model.add(\n",
    "        layers.Dense(\n",
    "            # Tune number of units.\n",
    "            units=hp.Int(\"units\", min_value=32, max_value=512, step=32),\n",
    "            # Tune the activation function to use.\n",
    "            activation=hp.Choice(\"activation\", [\"relu\", \"tanh\"]),\n",
    "        )\n",
    "    )\n",
    "\n",
    "    # Define the optimizer learning rate as a hyperparameter.\n",
    "    learning_rate = hp.Float(\"lr\", min_value=1e-4, max_value=1e-2, sampling=\"log\")\n",
    "    model.compile(\n",
    "        optimizer=keras.optimizers.Adam(learning_rate=learning_rate),\n",
    "        loss=\"mae\",\n",
    "        metrics=[\"accuracy\"],\n",
    "    )\n",
    "    return model\n",
    "\n",
    "\n",
    "build_model(keras_tuner.HyperParameters())"
   ]
  },
  {
   "cell_type": "code",
   "execution_count": 290,
   "metadata": {},
   "outputs": [
    {
     "name": "stdout",
     "output_type": "stream",
     "text": [
      "Search space summary\n",
      "Default search space size: 3\n",
      "units (Int)\n",
      "{'default': None, 'conditions': [], 'min_value': 32, 'max_value': 512, 'step': 32, 'sampling': None}\n",
      "activation (Choice)\n",
      "{'default': 'relu', 'conditions': [], 'values': ['relu', 'tanh'], 'ordered': False}\n",
      "lr (Float)\n",
      "{'default': 0.0001, 'conditions': [], 'min_value': 0.0001, 'max_value': 0.01, 'step': None, 'sampling': 'log'}\n"
     ]
    }
   ],
   "source": [
    "# tuner = keras_tuner.Hyperband(\n",
    "#     hypermodel=build_model,\n",
    "#     objective=\"val_accuracy\",\n",
    "#     max_trials=3,\n",
    "#     executions_per_trial=2,\n",
    "#     overwrite=True,\n",
    "#     directory=\"my_dir\",\n",
    "#     project_name=\"helloworld\",\n",
    "# )\n",
    "# tuner.search_space_summary()\n",
    "\n",
    "\n",
    "tuner = keras_tuner.Hyperband(build_model,\n",
    "                     objective=\"val_accuracy\",\n",
    "                     max_epochs=20,\n",
    "                     factor=10,\n",
    "                     hyperband_iterations=10,\n",
    "                     directory=\"kt_dir\",\n",
    "                     project_name=\"kt_hyperband\",)\n",
    "\n",
    "tuner.search_space_summary()"
   ]
  },
  {
   "cell_type": "code",
   "execution_count": 278,
   "metadata": {},
   "outputs": [
    {
     "name": "stdout",
     "output_type": "stream",
     "text": [
      "\n",
      "Search: Running Trial #51\n",
      "\n",
      "Value             |Best Value So Far |Hyperparameter\n",
      "512               |64                |units\n",
      "tanh              |tanh              |activation\n",
      "0.00099438        |0.00079402        |lr\n",
      "2                 |2                 |tuner/epochs\n",
      "0                 |0                 |tuner/initial_epoch\n",
      "4                 |4                 |tuner/bracket\n",
      "0                 |0                 |tuner/round\n",
      "\n",
      "Epoch 1/2\n"
     ]
    },
    {
     "name": "stderr",
     "output_type": "stream",
     "text": [
      "2022-11-23 19:49:59.672248: I tensorflow/core/grappler/optimizers/custom_graph_optimizer_registry.cc:114] Plugin optimizer for device_type GPU is enabled.\n"
     ]
    },
    {
     "name": "stdout",
     "output_type": "stream",
     "text": [
      "  8/269 [..............................] - ETA: 15s - loss: 2904.2983 - accuracy: 0.0000e+00"
     ]
    },
    {
     "ename": "KeyboardInterrupt",
     "evalue": "",
     "output_type": "error",
     "traceback": [
      "\u001b[0;31m---------------------------------------------------------------------------\u001b[0m",
      "\u001b[0;31mKeyboardInterrupt\u001b[0m                         Traceback (most recent call last)",
      "\u001b[1;32m/Users/wanja/Documents/repo/dsf_project/Tensorflow_NN_exp_wanja.ipynb Zelle 21\u001b[0m in \u001b[0;36m<cell line: 1>\u001b[0;34m()\u001b[0m\n\u001b[0;32m----> <a href='vscode-notebook-cell:/Users/wanja/Documents/repo/dsf_project/Tensorflow_NN_exp_wanja.ipynb#X46sZmlsZQ%3D%3D?line=0'>1</a>\u001b[0m tuner\u001b[39m.\u001b[39;49msearch(Xtrain, ytrain, epochs\u001b[39m=\u001b[39;49m\u001b[39m10\u001b[39;49m, validation_split\u001b[39m=\u001b[39;49m\u001b[39m0.2\u001b[39;49m)\n",
      "File \u001b[0;32m~/opt/miniconda3/envs/dsf/lib/python3.10/site-packages/keras_tuner/engine/base_tuner.py:183\u001b[0m, in \u001b[0;36mBaseTuner.search\u001b[0;34m(self, *fit_args, **fit_kwargs)\u001b[0m\n\u001b[1;32m    180\u001b[0m     \u001b[39mcontinue\u001b[39;00m\n\u001b[1;32m    182\u001b[0m \u001b[39mself\u001b[39m\u001b[39m.\u001b[39mon_trial_begin(trial)\n\u001b[0;32m--> 183\u001b[0m results \u001b[39m=\u001b[39m \u001b[39mself\u001b[39;49m\u001b[39m.\u001b[39;49mrun_trial(trial, \u001b[39m*\u001b[39;49mfit_args, \u001b[39m*\u001b[39;49m\u001b[39m*\u001b[39;49mfit_kwargs)\n\u001b[1;32m    184\u001b[0m \u001b[39m# `results` is None indicates user updated oracle in `run_trial()`.\u001b[39;00m\n\u001b[1;32m    185\u001b[0m \u001b[39mif\u001b[39;00m results \u001b[39mis\u001b[39;00m \u001b[39mNone\u001b[39;00m:\n",
      "File \u001b[0;32m~/opt/miniconda3/envs/dsf/lib/python3.10/site-packages/keras_tuner/tuners/hyperband.py:384\u001b[0m, in \u001b[0;36mHyperband.run_trial\u001b[0;34m(self, trial, *fit_args, **fit_kwargs)\u001b[0m\n\u001b[1;32m    382\u001b[0m     fit_kwargs[\u001b[39m\"\u001b[39m\u001b[39mepochs\u001b[39m\u001b[39m\"\u001b[39m] \u001b[39m=\u001b[39m hp\u001b[39m.\u001b[39mvalues[\u001b[39m\"\u001b[39m\u001b[39mtuner/epochs\u001b[39m\u001b[39m\"\u001b[39m]\n\u001b[1;32m    383\u001b[0m     fit_kwargs[\u001b[39m\"\u001b[39m\u001b[39minitial_epoch\u001b[39m\u001b[39m\"\u001b[39m] \u001b[39m=\u001b[39m hp\u001b[39m.\u001b[39mvalues[\u001b[39m\"\u001b[39m\u001b[39mtuner/initial_epoch\u001b[39m\u001b[39m\"\u001b[39m]\n\u001b[0;32m--> 384\u001b[0m \u001b[39mreturn\u001b[39;00m \u001b[39msuper\u001b[39;49m(Hyperband, \u001b[39mself\u001b[39;49m)\u001b[39m.\u001b[39;49mrun_trial(trial, \u001b[39m*\u001b[39;49mfit_args, \u001b[39m*\u001b[39;49m\u001b[39m*\u001b[39;49mfit_kwargs)\n",
      "File \u001b[0;32m~/opt/miniconda3/envs/dsf/lib/python3.10/site-packages/keras_tuner/engine/tuner.py:295\u001b[0m, in \u001b[0;36mTuner.run_trial\u001b[0;34m(self, trial, *args, **kwargs)\u001b[0m\n\u001b[1;32m    293\u001b[0m     callbacks\u001b[39m.\u001b[39mappend(model_checkpoint)\n\u001b[1;32m    294\u001b[0m     copied_kwargs[\u001b[39m\"\u001b[39m\u001b[39mcallbacks\u001b[39m\u001b[39m\"\u001b[39m] \u001b[39m=\u001b[39m callbacks\n\u001b[0;32m--> 295\u001b[0m     obj_value \u001b[39m=\u001b[39m \u001b[39mself\u001b[39;49m\u001b[39m.\u001b[39;49m_build_and_fit_model(trial, \u001b[39m*\u001b[39;49margs, \u001b[39m*\u001b[39;49m\u001b[39m*\u001b[39;49mcopied_kwargs)\n\u001b[1;32m    297\u001b[0m     histories\u001b[39m.\u001b[39mappend(obj_value)\n\u001b[1;32m    298\u001b[0m \u001b[39mreturn\u001b[39;00m histories\n",
      "File \u001b[0;32m~/opt/miniconda3/envs/dsf/lib/python3.10/site-packages/keras_tuner/engine/tuner.py:222\u001b[0m, in \u001b[0;36mTuner._build_and_fit_model\u001b[0;34m(self, trial, *args, **kwargs)\u001b[0m\n\u001b[1;32m    220\u001b[0m hp \u001b[39m=\u001b[39m trial\u001b[39m.\u001b[39mhyperparameters\n\u001b[1;32m    221\u001b[0m model \u001b[39m=\u001b[39m \u001b[39mself\u001b[39m\u001b[39m.\u001b[39m_try_build(hp)\n\u001b[0;32m--> 222\u001b[0m results \u001b[39m=\u001b[39m \u001b[39mself\u001b[39;49m\u001b[39m.\u001b[39;49mhypermodel\u001b[39m.\u001b[39;49mfit(hp, model, \u001b[39m*\u001b[39;49margs, \u001b[39m*\u001b[39;49m\u001b[39m*\u001b[39;49mkwargs)\n\u001b[1;32m    223\u001b[0m tuner_utils\u001b[39m.\u001b[39mvalidate_trial_results(\n\u001b[1;32m    224\u001b[0m     results, \u001b[39mself\u001b[39m\u001b[39m.\u001b[39moracle\u001b[39m.\u001b[39mobjective, \u001b[39m\"\u001b[39m\u001b[39mHyperModel.fit()\u001b[39m\u001b[39m\"\u001b[39m\n\u001b[1;32m    225\u001b[0m )\n\u001b[1;32m    226\u001b[0m \u001b[39mreturn\u001b[39;00m results\n",
      "File \u001b[0;32m~/opt/miniconda3/envs/dsf/lib/python3.10/site-packages/keras_tuner/engine/hypermodel.py:140\u001b[0m, in \u001b[0;36mHyperModel.fit\u001b[0;34m(self, hp, model, *args, **kwargs)\u001b[0m\n\u001b[1;32m    116\u001b[0m \u001b[39mdef\u001b[39;00m \u001b[39mfit\u001b[39m(\u001b[39mself\u001b[39m, hp, model, \u001b[39m*\u001b[39margs, \u001b[39m*\u001b[39m\u001b[39m*\u001b[39mkwargs):\n\u001b[1;32m    117\u001b[0m     \u001b[39m\"\"\"Train the model.\u001b[39;00m\n\u001b[1;32m    118\u001b[0m \n\u001b[1;32m    119\u001b[0m \u001b[39m    Args:\u001b[39;00m\n\u001b[0;32m   (...)\u001b[0m\n\u001b[1;32m    138\u001b[0m \u001b[39m        If return a float, it should be the `objective` value.\u001b[39;00m\n\u001b[1;32m    139\u001b[0m \u001b[39m    \"\"\"\u001b[39;00m\n\u001b[0;32m--> 140\u001b[0m     \u001b[39mreturn\u001b[39;00m model\u001b[39m.\u001b[39;49mfit(\u001b[39m*\u001b[39;49margs, \u001b[39m*\u001b[39;49m\u001b[39m*\u001b[39;49mkwargs)\n",
      "File \u001b[0;32m~/opt/miniconda3/envs/dsf/lib/python3.10/site-packages/keras/utils/traceback_utils.py:65\u001b[0m, in \u001b[0;36mfilter_traceback.<locals>.error_handler\u001b[0;34m(*args, **kwargs)\u001b[0m\n\u001b[1;32m     63\u001b[0m filtered_tb \u001b[39m=\u001b[39m \u001b[39mNone\u001b[39;00m\n\u001b[1;32m     64\u001b[0m \u001b[39mtry\u001b[39;00m:\n\u001b[0;32m---> 65\u001b[0m     \u001b[39mreturn\u001b[39;00m fn(\u001b[39m*\u001b[39;49margs, \u001b[39m*\u001b[39;49m\u001b[39m*\u001b[39;49mkwargs)\n\u001b[1;32m     66\u001b[0m \u001b[39mexcept\u001b[39;00m \u001b[39mException\u001b[39;00m \u001b[39mas\u001b[39;00m e:\n\u001b[1;32m     67\u001b[0m     filtered_tb \u001b[39m=\u001b[39m _process_traceback_frames(e\u001b[39m.\u001b[39m__traceback__)\n",
      "File \u001b[0;32m~/opt/miniconda3/envs/dsf/lib/python3.10/site-packages/keras/engine/training.py:1570\u001b[0m, in \u001b[0;36mModel.fit\u001b[0;34m(self, x, y, batch_size, epochs, verbose, callbacks, validation_split, validation_data, shuffle, class_weight, sample_weight, initial_epoch, steps_per_epoch, validation_steps, validation_batch_size, validation_freq, max_queue_size, workers, use_multiprocessing)\u001b[0m\n\u001b[1;32m   1568\u001b[0m logs \u001b[39m=\u001b[39m tmp_logs\n\u001b[1;32m   1569\u001b[0m end_step \u001b[39m=\u001b[39m step \u001b[39m+\u001b[39m data_handler\u001b[39m.\u001b[39mstep_increment\n\u001b[0;32m-> 1570\u001b[0m callbacks\u001b[39m.\u001b[39;49mon_train_batch_end(end_step, logs)\n\u001b[1;32m   1571\u001b[0m \u001b[39mif\u001b[39;00m \u001b[39mself\u001b[39m\u001b[39m.\u001b[39mstop_training:\n\u001b[1;32m   1572\u001b[0m     \u001b[39mbreak\u001b[39;00m\n",
      "File \u001b[0;32m~/opt/miniconda3/envs/dsf/lib/python3.10/site-packages/keras/callbacks.py:470\u001b[0m, in \u001b[0;36mCallbackList.on_train_batch_end\u001b[0;34m(self, batch, logs)\u001b[0m\n\u001b[1;32m    463\u001b[0m \u001b[39m\"\"\"Calls the `on_train_batch_end` methods of its callbacks.\u001b[39;00m\n\u001b[1;32m    464\u001b[0m \n\u001b[1;32m    465\u001b[0m \u001b[39mArgs:\u001b[39;00m\n\u001b[1;32m    466\u001b[0m \u001b[39m    batch: Integer, index of batch within the current epoch.\u001b[39;00m\n\u001b[1;32m    467\u001b[0m \u001b[39m    logs: Dict. Aggregated metric results up until this batch.\u001b[39;00m\n\u001b[1;32m    468\u001b[0m \u001b[39m\"\"\"\u001b[39;00m\n\u001b[1;32m    469\u001b[0m \u001b[39mif\u001b[39;00m \u001b[39mself\u001b[39m\u001b[39m.\u001b[39m_should_call_train_batch_hooks:\n\u001b[0;32m--> 470\u001b[0m     \u001b[39mself\u001b[39;49m\u001b[39m.\u001b[39;49m_call_batch_hook(ModeKeys\u001b[39m.\u001b[39;49mTRAIN, \u001b[39m\"\u001b[39;49m\u001b[39mend\u001b[39;49m\u001b[39m\"\u001b[39;49m, batch, logs\u001b[39m=\u001b[39;49mlogs)\n",
      "File \u001b[0;32m~/opt/miniconda3/envs/dsf/lib/python3.10/site-packages/keras/callbacks.py:317\u001b[0m, in \u001b[0;36mCallbackList._call_batch_hook\u001b[0;34m(self, mode, hook, batch, logs)\u001b[0m\n\u001b[1;32m    315\u001b[0m     \u001b[39mself\u001b[39m\u001b[39m.\u001b[39m_call_batch_begin_hook(mode, batch, logs)\n\u001b[1;32m    316\u001b[0m \u001b[39melif\u001b[39;00m hook \u001b[39m==\u001b[39m \u001b[39m\"\u001b[39m\u001b[39mend\u001b[39m\u001b[39m\"\u001b[39m:\n\u001b[0;32m--> 317\u001b[0m     \u001b[39mself\u001b[39;49m\u001b[39m.\u001b[39;49m_call_batch_end_hook(mode, batch, logs)\n\u001b[1;32m    318\u001b[0m \u001b[39melse\u001b[39;00m:\n\u001b[1;32m    319\u001b[0m     \u001b[39mraise\u001b[39;00m \u001b[39mValueError\u001b[39;00m(\n\u001b[1;32m    320\u001b[0m         \u001b[39mf\u001b[39m\u001b[39m\"\u001b[39m\u001b[39mUnrecognized hook: \u001b[39m\u001b[39m{\u001b[39;00mhook\u001b[39m}\u001b[39;00m\u001b[39m. \u001b[39m\u001b[39m\"\u001b[39m\n\u001b[1;32m    321\u001b[0m         \u001b[39m'\u001b[39m\u001b[39mExpected values are [\u001b[39m\u001b[39m\"\u001b[39m\u001b[39mbegin\u001b[39m\u001b[39m\"\u001b[39m\u001b[39m, \u001b[39m\u001b[39m\"\u001b[39m\u001b[39mend\u001b[39m\u001b[39m\"\u001b[39m\u001b[39m]\u001b[39m\u001b[39m'\u001b[39m\n\u001b[1;32m    322\u001b[0m     )\n",
      "File \u001b[0;32m~/opt/miniconda3/envs/dsf/lib/python3.10/site-packages/keras/callbacks.py:340\u001b[0m, in \u001b[0;36mCallbackList._call_batch_end_hook\u001b[0;34m(self, mode, batch, logs)\u001b[0m\n\u001b[1;32m    337\u001b[0m     batch_time \u001b[39m=\u001b[39m time\u001b[39m.\u001b[39mtime() \u001b[39m-\u001b[39m \u001b[39mself\u001b[39m\u001b[39m.\u001b[39m_batch_start_time\n\u001b[1;32m    338\u001b[0m     \u001b[39mself\u001b[39m\u001b[39m.\u001b[39m_batch_times\u001b[39m.\u001b[39mappend(batch_time)\n\u001b[0;32m--> 340\u001b[0m \u001b[39mself\u001b[39;49m\u001b[39m.\u001b[39;49m_call_batch_hook_helper(hook_name, batch, logs)\n\u001b[1;32m    342\u001b[0m \u001b[39mif\u001b[39;00m \u001b[39mlen\u001b[39m(\u001b[39mself\u001b[39m\u001b[39m.\u001b[39m_batch_times) \u001b[39m>\u001b[39m\u001b[39m=\u001b[39m \u001b[39mself\u001b[39m\u001b[39m.\u001b[39m_num_batches_for_timing_check:\n\u001b[1;32m    343\u001b[0m     end_hook_name \u001b[39m=\u001b[39m hook_name\n",
      "File \u001b[0;32m~/opt/miniconda3/envs/dsf/lib/python3.10/site-packages/keras/callbacks.py:385\u001b[0m, in \u001b[0;36mCallbackList._call_batch_hook_helper\u001b[0;34m(self, hook_name, batch, logs)\u001b[0m\n\u001b[1;32m    382\u001b[0m \u001b[39mif\u001b[39;00m \u001b[39mself\u001b[39m\u001b[39m.\u001b[39m_check_timing:\n\u001b[1;32m    383\u001b[0m     start_time \u001b[39m=\u001b[39m time\u001b[39m.\u001b[39mtime()\n\u001b[0;32m--> 385\u001b[0m logs \u001b[39m=\u001b[39m \u001b[39mself\u001b[39;49m\u001b[39m.\u001b[39;49m_process_logs(logs, is_batch_hook\u001b[39m=\u001b[39;49m\u001b[39mTrue\u001b[39;49;00m)\n\u001b[1;32m    386\u001b[0m \u001b[39mfor\u001b[39;00m callback \u001b[39min\u001b[39;00m \u001b[39mself\u001b[39m\u001b[39m.\u001b[39mcallbacks:\n\u001b[1;32m    387\u001b[0m     hook \u001b[39m=\u001b[39m \u001b[39mgetattr\u001b[39m(callback, hook_name)\n",
      "File \u001b[0;32m~/opt/miniconda3/envs/dsf/lib/python3.10/site-packages/keras/callbacks.py:292\u001b[0m, in \u001b[0;36mCallbackList._process_logs\u001b[0;34m(self, logs, is_batch_hook)\u001b[0m\n\u001b[1;32m    290\u001b[0m \u001b[39mif\u001b[39;00m is_batch_hook \u001b[39mand\u001b[39;00m \u001b[39mself\u001b[39m\u001b[39m.\u001b[39m_batch_hooks_support_tf_logs:\n\u001b[1;32m    291\u001b[0m     \u001b[39mreturn\u001b[39;00m logs\n\u001b[0;32m--> 292\u001b[0m \u001b[39mreturn\u001b[39;00m tf_utils\u001b[39m.\u001b[39;49msync_to_numpy_or_python_type(logs)\n",
      "File \u001b[0;32m~/opt/miniconda3/envs/dsf/lib/python3.10/site-packages/keras/utils/tf_utils.py:635\u001b[0m, in \u001b[0;36msync_to_numpy_or_python_type\u001b[0;34m(tensors)\u001b[0m\n\u001b[1;32m    632\u001b[0m         \u001b[39mreturn\u001b[39;00m t\n\u001b[1;32m    633\u001b[0m     \u001b[39mreturn\u001b[39;00m t\u001b[39m.\u001b[39mitem() \u001b[39mif\u001b[39;00m np\u001b[39m.\u001b[39mndim(t) \u001b[39m==\u001b[39m \u001b[39m0\u001b[39m \u001b[39melse\u001b[39;00m t\n\u001b[0;32m--> 635\u001b[0m \u001b[39mreturn\u001b[39;00m tf\u001b[39m.\u001b[39;49mnest\u001b[39m.\u001b[39;49mmap_structure(_to_single_numpy_or_python_type, tensors)\n",
      "File \u001b[0;32m~/opt/miniconda3/envs/dsf/lib/python3.10/site-packages/tensorflow/python/util/nest.py:917\u001b[0m, in \u001b[0;36mmap_structure\u001b[0;34m(func, *structure, **kwargs)\u001b[0m\n\u001b[1;32m    913\u001b[0m flat_structure \u001b[39m=\u001b[39m (flatten(s, expand_composites) \u001b[39mfor\u001b[39;00m s \u001b[39min\u001b[39;00m structure)\n\u001b[1;32m    914\u001b[0m entries \u001b[39m=\u001b[39m \u001b[39mzip\u001b[39m(\u001b[39m*\u001b[39mflat_structure)\n\u001b[1;32m    916\u001b[0m \u001b[39mreturn\u001b[39;00m pack_sequence_as(\n\u001b[0;32m--> 917\u001b[0m     structure[\u001b[39m0\u001b[39m], [func(\u001b[39m*\u001b[39mx) \u001b[39mfor\u001b[39;00m x \u001b[39min\u001b[39;00m entries],\n\u001b[1;32m    918\u001b[0m     expand_composites\u001b[39m=\u001b[39mexpand_composites)\n",
      "File \u001b[0;32m~/opt/miniconda3/envs/dsf/lib/python3.10/site-packages/tensorflow/python/util/nest.py:917\u001b[0m, in \u001b[0;36m<listcomp>\u001b[0;34m(.0)\u001b[0m\n\u001b[1;32m    913\u001b[0m flat_structure \u001b[39m=\u001b[39m (flatten(s, expand_composites) \u001b[39mfor\u001b[39;00m s \u001b[39min\u001b[39;00m structure)\n\u001b[1;32m    914\u001b[0m entries \u001b[39m=\u001b[39m \u001b[39mzip\u001b[39m(\u001b[39m*\u001b[39mflat_structure)\n\u001b[1;32m    916\u001b[0m \u001b[39mreturn\u001b[39;00m pack_sequence_as(\n\u001b[0;32m--> 917\u001b[0m     structure[\u001b[39m0\u001b[39m], [func(\u001b[39m*\u001b[39;49mx) \u001b[39mfor\u001b[39;00m x \u001b[39min\u001b[39;00m entries],\n\u001b[1;32m    918\u001b[0m     expand_composites\u001b[39m=\u001b[39mexpand_composites)\n",
      "File \u001b[0;32m~/opt/miniconda3/envs/dsf/lib/python3.10/site-packages/keras/utils/tf_utils.py:628\u001b[0m, in \u001b[0;36msync_to_numpy_or_python_type.<locals>._to_single_numpy_or_python_type\u001b[0;34m(t)\u001b[0m\n\u001b[1;32m    625\u001b[0m \u001b[39mdef\u001b[39;00m \u001b[39m_to_single_numpy_or_python_type\u001b[39m(t):\n\u001b[1;32m    626\u001b[0m     \u001b[39m# Don't turn ragged or sparse tensors to NumPy.\u001b[39;00m\n\u001b[1;32m    627\u001b[0m     \u001b[39mif\u001b[39;00m \u001b[39misinstance\u001b[39m(t, tf\u001b[39m.\u001b[39mTensor):\n\u001b[0;32m--> 628\u001b[0m         t \u001b[39m=\u001b[39m t\u001b[39m.\u001b[39;49mnumpy()\n\u001b[1;32m    629\u001b[0m     \u001b[39m# Strings, ragged and sparse tensors don't have .item(). Return them\u001b[39;00m\n\u001b[1;32m    630\u001b[0m     \u001b[39m# as-is.\u001b[39;00m\n\u001b[1;32m    631\u001b[0m     \u001b[39mif\u001b[39;00m \u001b[39mnot\u001b[39;00m \u001b[39misinstance\u001b[39m(t, (np\u001b[39m.\u001b[39mndarray, np\u001b[39m.\u001b[39mgeneric)):\n",
      "File \u001b[0;32m~/opt/miniconda3/envs/dsf/lib/python3.10/site-packages/tensorflow/python/framework/ops.py:1157\u001b[0m, in \u001b[0;36m_EagerTensorBase.numpy\u001b[0;34m(self)\u001b[0m\n\u001b[1;32m   1134\u001b[0m \u001b[39m\"\"\"Copy of the contents of this Tensor into a NumPy array or scalar.\u001b[39;00m\n\u001b[1;32m   1135\u001b[0m \n\u001b[1;32m   1136\u001b[0m \u001b[39mUnlike NumPy arrays, Tensors are immutable, so this method has to copy\u001b[39;00m\n\u001b[0;32m   (...)\u001b[0m\n\u001b[1;32m   1154\u001b[0m \u001b[39m    NumPy dtype.\u001b[39;00m\n\u001b[1;32m   1155\u001b[0m \u001b[39m\"\"\"\u001b[39;00m\n\u001b[1;32m   1156\u001b[0m \u001b[39m# TODO(slebedev): Consider avoiding a copy for non-CPU or remote tensors.\u001b[39;00m\n\u001b[0;32m-> 1157\u001b[0m maybe_arr \u001b[39m=\u001b[39m \u001b[39mself\u001b[39;49m\u001b[39m.\u001b[39;49m_numpy()  \u001b[39m# pylint: disable=protected-access\u001b[39;00m\n\u001b[1;32m   1158\u001b[0m \u001b[39mreturn\u001b[39;00m maybe_arr\u001b[39m.\u001b[39mcopy() \u001b[39mif\u001b[39;00m \u001b[39misinstance\u001b[39m(maybe_arr, np\u001b[39m.\u001b[39mndarray) \u001b[39melse\u001b[39;00m maybe_arr\n",
      "File \u001b[0;32m~/opt/miniconda3/envs/dsf/lib/python3.10/site-packages/tensorflow/python/framework/ops.py:1123\u001b[0m, in \u001b[0;36m_EagerTensorBase._numpy\u001b[0;34m(self)\u001b[0m\n\u001b[1;32m   1121\u001b[0m \u001b[39mdef\u001b[39;00m \u001b[39m_numpy\u001b[39m(\u001b[39mself\u001b[39m):\n\u001b[1;32m   1122\u001b[0m   \u001b[39mtry\u001b[39;00m:\n\u001b[0;32m-> 1123\u001b[0m     \u001b[39mreturn\u001b[39;00m \u001b[39mself\u001b[39;49m\u001b[39m.\u001b[39;49m_numpy_internal()\n\u001b[1;32m   1124\u001b[0m   \u001b[39mexcept\u001b[39;00m core\u001b[39m.\u001b[39m_NotOkStatusException \u001b[39mas\u001b[39;00m e:  \u001b[39m# pylint: disable=protected-access\u001b[39;00m\n\u001b[1;32m   1125\u001b[0m     \u001b[39mraise\u001b[39;00m core\u001b[39m.\u001b[39m_status_to_exception(e) \u001b[39mfrom\u001b[39;00m \u001b[39mNone\u001b[39m\n",
      "\u001b[0;31mKeyboardInterrupt\u001b[0m: "
     ]
    }
   ],
   "source": [
    "tuner.search(Xtrain, ytrain, epochs=10, validation_split=0.2)"
   ]
  },
  {
   "cell_type": "markdown",
   "metadata": {},
   "source": [
    "### Hyperparameter Tuning"
   ]
  },
  {
   "cell_type": "code",
   "execution_count": 14,
   "metadata": {},
   "outputs": [],
   "source": [
    "# import keras_tuner as kt\n",
    "\n",
    "# def model_builder(hp):\n",
    "#   model = tf.keras.Sequential()\n",
    "#   model.add(tf.keras.layers.Flatten())\n",
    "#   # model.add(tf.keras.layers.Flatten(input_shape=(1, 48)))\n",
    "\n",
    "#   hp_activation = hp.Choice('activation', values=['relu', 'tanh'])\n",
    "#   hp_layer_1 = hp.Int('layer_1', min_value=32, max_value=512, step=32)\n",
    "#   hp_layer_2 = hp.Int('layer_2', min_value=32, max_value=512, step=32)\n",
    "#   hp_layer_3 = hp.Int('layer_3', min_value=32, max_value=512, step=32) \n",
    "#   hp_layer_4 = hp.Int('layer_4', min_value=32, max_value=512, step=32)\n",
    "#   hp_layer_5 = hp.Int('layer_5', min_value=32, max_value=512, step=32) \n",
    "#   hp_layer_6 = hp.Int('layer_6', min_value=32, max_value=512, step=32) \n",
    "#   hp_layer_7 = hp.Int('layer_7', min_value=32, max_value=512, step=32) \n",
    "#   hp_learning_rate = hp.Choice('learning_rate', values=[1e-2, 1e-3, 1e-4])\n",
    "\n",
    "#   model.add(tf.keras.layers.Dense(units=hp_layer_1, activation=hp_activation))\n",
    "#   model.add(tf.keras.layers.Dense(units=hp_layer_2, activation=hp_activation))\n",
    "#   model.add(tf.keras.layers.Dense(units=hp_layer_3, activation=hp_activation))\n",
    "#   model.add(tf.keras.layers.Dense(units=hp_layer_4, activation=hp_activation))\n",
    "#   model.add(tf.keras.layers.Dense(units=hp_layer_5, activation=hp_activation))\n",
    "#   model.add(tf.keras.layers.Dense(units=hp_layer_6, activation=hp_activation))\n",
    "#   model.add(tf.keras.layers.Dense(units=hp_layer_7, activation=hp_activation))\n",
    "#   model.add(tf.keras.layers.Dense(1, activation='relu'))\n",
    "\n",
    "#   model.compile(optimizer=tf.keras.optimizers.Adam(learning_rate=hp_learning_rate),\n",
    "#                 loss=tf.keras.losses.mae,\n",
    "#                 metrics=['mae'])\n",
    "  \n",
    "#   return model\n",
    "\n",
    "import tensorflow as tf\n",
    "import keras_tuner as kt\n",
    "from tensorflow import keras\n",
    "\n",
    "# def model_builder(hp):\n",
    " \n",
    "#     # Initialize sequential API and start building model.\n",
    "#     model = keras.Sequential()\n",
    "#     model.add(keras.layers.Flatten())\n",
    "    \n",
    "#     # Tune the number of hidden layers and units in each.\n",
    "#     # Number of hidden layers: 1 - 10\n",
    "#     # Number of Units: 32 - 512 with stepsize of 32\n",
    "#     for i in range(1, hp.Int(\"num_layers\", 2, 15)):\n",
    "#         model.add(\n",
    "#             keras.layers.Dense(\n",
    "#                 units=hp.Int(\"units_\" + str(i), min_value=32, max_value=512, step=32),\n",
    "#                 activation=\"relu\")\n",
    "#             )\n",
    "        \n",
    "      \n",
    "#     # Add output layer.\n",
    "#     model.add(keras.layers.Dense(units=1, activation=\"relu\"))\n",
    "    \n",
    "#     # Tune learning rate for Adam optimizer with values from 0.01, 0.001, or 0.0001\n",
    "#     hp_learning_rate = hp.Choice(\"learning_rate\", values=[1e-2, 1e-3, 1e-4])\n",
    "    \n",
    "#     # Define optimizer, loss, and metrics\n",
    "#     model.compile(optimizer=keras.optimizers.Adam(learning_rate=hp_learning_rate),\n",
    "#                   loss=keras.losses.mae,\n",
    "#                   metrics=[\"mae\"])\n",
    "    \n",
    "#     return model\n",
    "\n",
    "\n",
    "def model_builder(hp): #ADAGRAD BENUTZEN ALS OPTIMZER und LEARNING RATE DECREASE implementieren\n",
    " \n",
    "    # Initialize sequential API and start building model.\n",
    "    model = keras.Sequential()\n",
    "    model.add(keras.layers.Flatten())\n",
    "    \n",
    "    # Tune the number of hidden layers and units in each.\n",
    "    # Number of hidden layers: 1 - 10\n",
    "    # Number of Units: 32 - 512 with stepsize of 32\n",
    "    for i in range(1, hp.Int(\"num_layers\", 2, 11)):\n",
    "        \n",
    "        hp_activation = hp.Choice('activation', values=['relu', 'tanh'])\n",
    "        \n",
    "        model.add(\n",
    "            keras.layers.Dense(\n",
    "                units=hp.Int(\"units_\" + str(i), min_value=32, max_value=512, step=32),\n",
    "                activation=hp_activation)\n",
    "            )\n",
    "        \n",
    "      \n",
    "    # Add output layer.\n",
    "    model.add(keras.layers.Dense(units=1, activation=\"relu\"))\n",
    "    \n",
    "    # Tune learning rate for Adam optimizer with values from 0.01, 0.001, or 0.0001\n",
    "    hp_learning_rate = hp.Choice(\"learning_rate\", values=[1e-2, 1e-3, 1e-4])\n",
    "    \n",
    "    # Define optimizer, loss, and metrics\n",
    "    model.compile(optimizer=keras.optimizers.Adam(learning_rate=hp_learning_rate),\n",
    "                  loss=keras.losses.mae,\n",
    "                  metrics=[\"mae\"])\n",
    "    \n",
    "    return model\n"
   ]
  },
  {
   "cell_type": "code",
   "execution_count": 15,
   "metadata": {},
   "outputs": [],
   "source": [
    "import keras_tuner as kt\n",
    "\n",
    "tuner = kt.Hyperband(model_builder,\n",
    "                     objective='val_mae',\n",
    "                     max_epochs=30,\n",
    "                     factor=3,\n",
    "                     hyperband_iterations=15,\n",
    "                     overwrite=True,\n",
    "                     directory='kt_dir2',\n",
    "                     project_name='kt_hyperband2')\n",
    "\n",
    "# tuner = keras_tuner.Hyperband(model_builder,\n",
    "#                      objective=\"val_mae\",\n",
    "#                      max_epochs=10,\n",
    "#                      factor=3,\n",
    "#                      hyperband_iterations=10,\n",
    "#                      directory=\"kt_dir\",\n",
    "#                      project_name=\"kt_hyperband\",)\n",
    "\n",
    "\n",
    "                     \n",
    "\n",
    "\n"
   ]
  },
  {
   "cell_type": "code",
   "execution_count": 16,
   "metadata": {},
   "outputs": [],
   "source": [
    "stop_early = tf.keras.callbacks.EarlyStopping(monitor='val_mae', patience=3)"
   ]
  },
  {
   "cell_type": "code",
   "execution_count": 17,
   "metadata": {},
   "outputs": [
    {
     "name": "stdout",
     "output_type": "stream",
     "text": [
      "Trial 74 Complete [00h 21m 12s]\n",
      "val_mae: 363.8334045410156\n",
      "\n",
      "Best val_mae So Far: 350.7418212890625\n",
      "Total elapsed time: 04h 23m 09s\n",
      "\n",
      "Search: Running Trial #75\n",
      "\n",
      "Value             |Best Value So Far |Hyperparameter\n",
      "10                |5                 |num_layers\n",
      "tanh              |relu              |activation\n",
      "352               |448               |units_1\n",
      "0.001             |0.001             |learning_rate\n",
      "352               |128               |units_2\n",
      "160               |320               |units_3\n",
      "128               |320               |units_4\n",
      "352               |384               |units_5\n",
      "160               |160               |units_6\n",
      "320               |352               |units_7\n",
      "224               |448               |units_8\n",
      "32                |160               |units_9\n",
      "320               |160               |units_10\n",
      "10                |30                |tuner/epochs\n",
      "0                 |10                |tuner/initial_epoch\n",
      "1                 |2                 |tuner/bracket\n",
      "0                 |2                 |tuner/round\n",
      "\n",
      "Epoch 1/10\n"
     ]
    },
    {
     "name": "stderr",
     "output_type": "stream",
     "text": [
      "2022-11-24 05:09:07.684070: I tensorflow/core/grappler/optimizers/custom_graph_optimizer_registry.cc:114] Plugin optimizer for device_type GPU is enabled.\n"
     ]
    },
    {
     "name": "stdout",
     "output_type": "stream",
     "text": [
      "147/269 [===============>..............] - ETA: 13:57 - loss: 2578.7319 - mae: 2578.7319"
     ]
    },
    {
     "name": "stdout",
     "output_type": "stream",
     "text": [
      "155/269 [================>.............] - ETA: 12:25 - loss: 2572.6755 - mae: 2572.6755"
     ]
    },
    {
     "ename": "",
     "evalue": "",
     "output_type": "error",
     "traceback": [
      "\u001b[1;31mDer Kernel ist beim Ausführen von Code in der aktuellen Zelle oder einer vorherigen Zelle abgestürzt. Bitte überprüfen Sie den Code in der/den Zelle(n), um eine mögliche Fehlerursache zu identifizieren. Klicken Sie <a href='https://aka.ms/vscodeJupyterKernelCrash'>hier</a>, um weitere Informationen zu erhalten. Weitere Details finden Sie in Jupyter <a href='command:jupyter.viewOutput'>log</a>."
     ]
    },
    {
     "ename": "",
     "evalue": "",
     "output_type": "error",
     "traceback": [
      "\u001b[1;31mCanceled future for execute_request message before replies were done"
     ]
    }
   ],
   "source": [
    "tuner.search(Xtrain, ytrain, epochs=50, validation_split=0.2, callbacks=[stop_early])"
   ]
  },
  {
   "cell_type": "code",
   "execution_count": null,
   "metadata": {},
   "outputs": [
    {
     "ename": "NameError",
     "evalue": "name 'tuner' is not defined",
     "output_type": "error",
     "traceback": [
      "\u001b[0;31m---------------------------------------------------------------------------\u001b[0m",
      "\u001b[0;31mNameError\u001b[0m                                 Traceback (most recent call last)",
      "\u001b[1;32m/Users/wanja/Documents/repo/dsf_project/Tensorflow_NN_exp_wanja.ipynb Zelle 26\u001b[0m in \u001b[0;36m<cell line: 1>\u001b[0;34m()\u001b[0m\n\u001b[0;32m----> <a href='vscode-notebook-cell:/Users/wanja/Documents/repo/dsf_project/Tensorflow_NN_exp_wanja.ipynb#X54sZmlsZQ%3D%3D?line=0'>1</a>\u001b[0m best_hps \u001b[39m=\u001b[39m tuner\u001b[39m.\u001b[39mget_best_hyperparameters(num_trials\u001b[39m=\u001b[39m\u001b[39m1\u001b[39m)[\u001b[39m0\u001b[39m]\n",
      "\u001b[0;31mNameError\u001b[0m: name 'tuner' is not defined"
     ]
    }
   ],
   "source": [
    "best_hps = tuner.get_best_hyperparameters(num_trials=1)[0]\n"
   ]
  },
  {
   "cell_type": "code",
   "execution_count": null,
   "metadata": {},
   "outputs": [
    {
     "name": "stdout",
     "output_type": "stream",
     "text": [
      "Epoch 1/50\n"
     ]
    },
    {
     "name": "stderr",
     "output_type": "stream",
     "text": [
      "2022-11-23 23:30:56.068445: I tensorflow/core/grappler/optimizers/custom_graph_optimizer_registry.cc:114] Plugin optimizer for device_type GPU is enabled.\n"
     ]
    },
    {
     "name": "stdout",
     "output_type": "stream",
     "text": [
      "269/269 [==============================] - ETA: 0s - loss: 1138.3671 - mae: 1138.3671"
     ]
    },
    {
     "name": "stderr",
     "output_type": "stream",
     "text": [
      "2022-11-23 23:31:00.819305: I tensorflow/core/grappler/optimizers/custom_graph_optimizer_registry.cc:114] Plugin optimizer for device_type GPU is enabled.\n"
     ]
    },
    {
     "name": "stdout",
     "output_type": "stream",
     "text": [
      "269/269 [==============================] - 6s 18ms/step - loss: 1138.3671 - mae: 1138.3671 - val_loss: 582.6376 - val_mae: 582.6376\n",
      "Epoch 2/50\n",
      "269/269 [==============================] - 2s 9ms/step - loss: 492.8920 - mae: 492.8920 - val_loss: 416.7682 - val_mae: 416.7682\n",
      "Epoch 3/50\n",
      "269/269 [==============================] - 3s 10ms/step - loss: 419.3342 - mae: 419.3342 - val_loss: 387.8136 - val_mae: 387.8136\n",
      "Epoch 4/50\n",
      "269/269 [==============================] - 2s 9ms/step - loss: 382.2344 - mae: 382.2344 - val_loss: 380.4399 - val_mae: 380.4399\n",
      "Epoch 5/50\n",
      "269/269 [==============================] - 2s 9ms/step - loss: 366.8080 - mae: 366.8080 - val_loss: 391.1324 - val_mae: 391.1324\n",
      "Epoch 6/50\n",
      "269/269 [==============================] - 2s 9ms/step - loss: 350.3066 - mae: 350.3066 - val_loss: 437.2744 - val_mae: 437.2744\n",
      "Epoch 7/50\n",
      "269/269 [==============================] - 2s 9ms/step - loss: 347.7671 - mae: 347.7671 - val_loss: 364.1671 - val_mae: 364.1671\n",
      "Epoch 8/50\n",
      "269/269 [==============================] - 3s 10ms/step - loss: 338.5914 - mae: 338.5914 - val_loss: 383.3051 - val_mae: 383.3051\n",
      "Epoch 9/50\n",
      "269/269 [==============================] - 3s 9ms/step - loss: 328.6007 - mae: 328.6007 - val_loss: 370.8198 - val_mae: 370.8198\n",
      "Epoch 10/50\n",
      "269/269 [==============================] - 3s 10ms/step - loss: 332.2922 - mae: 332.2922 - val_loss: 357.8287 - val_mae: 357.8287\n",
      "Epoch 11/50\n",
      "269/269 [==============================] - 2s 9ms/step - loss: 317.1687 - mae: 317.1687 - val_loss: 373.9703 - val_mae: 373.9703\n",
      "Epoch 12/50\n",
      "269/269 [==============================] - 3s 9ms/step - loss: 315.2925 - mae: 315.2925 - val_loss: 351.7001 - val_mae: 351.7001\n",
      "Epoch 13/50\n",
      "269/269 [==============================] - 2s 9ms/step - loss: 315.9207 - mae: 315.9207 - val_loss: 358.6682 - val_mae: 358.6682\n",
      "Epoch 14/50\n",
      "269/269 [==============================] - 3s 11ms/step - loss: 310.0681 - mae: 310.0681 - val_loss: 351.3671 - val_mae: 351.3671\n",
      "Epoch 15/50\n",
      "269/269 [==============================] - 2s 8ms/step - loss: 305.3210 - mae: 305.3210 - val_loss: 382.4388 - val_mae: 382.4388\n",
      "Epoch 16/50\n",
      "269/269 [==============================] - 2s 9ms/step - loss: 302.0979 - mae: 302.0979 - val_loss: 359.4973 - val_mae: 359.4973\n",
      "Epoch 17/50\n",
      "269/269 [==============================] - 2s 9ms/step - loss: 299.0688 - mae: 299.0688 - val_loss: 360.6504 - val_mae: 360.6504\n"
     ]
    }
   ],
   "source": [
    "h_model = tuner.hypermodel.build(best_hps)\n",
    "history = h_model.fit(Xtrain, ytrain, epochs=50, validation_split=0.2,\n",
    "                    callbacks=[stop_early])\n",
    "\n",
    "                    "
   ]
  },
  {
   "cell_type": "code",
   "execution_count": null,
   "metadata": {},
   "outputs": [
    {
     "name": "stdout",
     "output_type": "stream",
     "text": [
      "144/144 [==============================] - 1s 7ms/step - loss: 326.6047 - mae: 326.6047\n"
     ]
    },
    {
     "name": "stderr",
     "output_type": "stream",
     "text": [
      "/var/folders/lj/x77cgrfn0ml3pv3407q8vw0c0000gn/T/ipykernel_1457/4293296147.py:8: FutureWarning: The frame.append method is deprecated and will be removed from pandas in a future version. Use pandas.concat instead.\n",
      "  results.append(hyper_df)\n"
     ]
    },
    {
     "data": {
      "text/html": [
       "<div>\n",
       "<style scoped>\n",
       "    .dataframe tbody tr th:only-of-type {\n",
       "        vertical-align: middle;\n",
       "    }\n",
       "\n",
       "    .dataframe tbody tr th {\n",
       "        vertical-align: top;\n",
       "    }\n",
       "\n",
       "    .dataframe thead tr th {\n",
       "        text-align: left;\n",
       "    }\n",
       "</style>\n",
       "<table border=\"1\" class=\"dataframe\">\n",
       "  <thead>\n",
       "    <tr>\n",
       "      <th></th>\n",
       "      <th>loss</th>\n",
       "      <th>mae</th>\n",
       "      <th>mse</th>\n",
       "    </tr>\n",
       "  </thead>\n",
       "  <tbody>\n",
       "    <tr>\n",
       "      <th>Startwerte</th>\n",
       "      <td>320.964966</td>\n",
       "      <td>320.964966</td>\n",
       "      <td>504031.34375</td>\n",
       "    </tr>\n",
       "    <tr>\n",
       "      <th>Hypertuned</th>\n",
       "      <td>326.604736</td>\n",
       "      <td>326.604736</td>\n",
       "      <td>NaN</td>\n",
       "    </tr>\n",
       "  </tbody>\n",
       "</table>\n",
       "</div>"
      ],
      "text/plain": [
       "                  loss         mae           mse\n",
       "Startwerte  320.964966  320.964966  504031.34375\n",
       "Hypertuned  326.604736  326.604736           NaN"
      ]
     },
     "execution_count": 341,
     "metadata": {},
     "output_type": "execute_result"
    }
   ],
   "source": [
    "# Evaluate model on test set\n",
    "hyper_df = evaluate_model(h_model, Xtest, ytest)\n",
    "\n",
    "# Set index to hypertuned\n",
    "hyper_df.index = [\"Hypertuned\"]\n",
    "\n",
    "# Append results in dataframe\n",
    "results.append(hyper_df)"
   ]
  },
  {
   "cell_type": "markdown",
   "metadata": {},
   "source": [
    "\tloss\tmae\tmse\n",
    "Startwerte\t320.964966\t320.964966\t504031.34375\n",
    "Hypertuned\t326.604736\t326.604736\tNaN"
   ]
  },
  {
   "cell_type": "markdown",
   "metadata": {},
   "source": []
  }
 ],
 "metadata": {
  "kernelspec": {
   "display_name": "Python 3.10.6 ('dsf')",
   "language": "python",
   "name": "python3"
  },
  "language_info": {
   "codemirror_mode": {
    "name": "ipython",
    "version": 3
   },
   "file_extension": ".py",
   "mimetype": "text/x-python",
   "name": "python",
   "nbconvert_exporter": "python",
   "pygments_lexer": "ipython3",
   "version": "3.10.6"
  },
  "orig_nbformat": 4,
  "vscode": {
   "interpreter": {
    "hash": "ff98f68734c7da1c821948b063f662718ea57948fa963f86af6f8746cbf700fb"
   }
  }
 },
 "nbformat": 4,
 "nbformat_minor": 2
}
