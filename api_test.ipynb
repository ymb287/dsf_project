{
 "cells": [
  {
   "cell_type": "code",
   "execution_count": null,
   "metadata": {},
   "outputs": [],
   "source": [
    "import requests # Library to access URLs using Python\n",
    "import pandas as pd\n",
    "import numpy as np\n",
    "import matplotlib.pyplot as plt\n",
    "import datetime\n",
    "\n",
    "# You can also sign-up to the free Alpha Vantage plan and replace this with your own API key\n",
    "# Go to: https://www.alphavantage.co/support/#api-key\n",
    "api_key = \"SFLRu9SvtkNxZr7yV1oxmhFg\""
   ]
  },
  {
   "cell_type": "code",
   "execution_count": 2,
   "metadata": {},
   "outputs": [
    {
     "ename": "SyntaxError",
     "evalue": "invalid syntax (3281074796.py, line 1)",
     "output_type": "error",
     "traceback": [
      "\u001b[1;36m  Cell \u001b[1;32mIn [2], line 1\u001b[1;36m\u001b[0m\n\u001b[1;33m    curl --request GET \\\u001b[0m\n\u001b[1;37m                   ^\u001b[0m\n\u001b[1;31mSyntaxError\u001b[0m\u001b[1;31m:\u001b[0m invalid syntax\n"
     ]
    }
   ],
   "source": [
    "curl --request GET \\\n",
    "  --url https://static.hystreet.com/api/https://api.hystreet.com/locations \\\n",
    "  --header 'Content-Type: application/json' \\\n",
    "  --header 'X-API-Token: '"
   ]
  },
  {
   "cell_type": "code",
   "execution_count": null,
   "metadata": {},
   "outputs": [],
   "source": [
    "def build_query_string(base_url, params_dict):\n",
    "    # Create a string of param1=value1&param2=value2&...\n",
    "    params_str = \"&\".join(f\"{k}={v}\" for k,v in params_dict.items())\n",
    "    # Concatenate this string with the base URL and return\n",
    "    return f\"{base_url}?{params_str}\""
   ]
  },
  {
   "cell_type": "code",
   "execution_count": null,
   "metadata": {},
   "outputs": [],
   "source": [
    "# The base URL of our API\n",
    "my_url = \"https://static.hystreet.com/api/https://api.hystreet.com/locations/47\"\n",
    "# The parameters and their values\n",
    "my_params = {\n",
    "    \"apikey\": \"VYHYQ4QOEMXWO5SW\", # Replace this with your own API key to query other symbols/time frequencies\n",
    "    \"from\": \"2018-05-01T00%3A00%3A00%2B02%3A00%3A00\",\n",
    "    \"to\": \"2018-05-01T00%3A00%3A00%2B02%3A00%3A00\",\n",
    "    \"resolution\": \"hour\"\n",
    "}\n",
    "\n",
    "# Building the url programmatically\n",
    "build_query_string(my_url, my_params)"
   ]
  },
  {
   "cell_type": "code",
   "execution_count": null,
   "metadata": {},
   "outputs": [],
   "source": [
    "# Let's start step by step, it's the best way to program!\n",
    "# We will define a function which takes as input a parameter dictionary and\n",
    "# creates a data frame of closing prices for these parameters\n",
    "def get_single_stock(params_dict, key_to_extract=\"Time Series (Daily)\", \n",
    "                  base_url=\"https://static.hystreet.com/api/https://api.hystreet.com/locations/47\"):\n",
    "    \n",
    "    # Build the query string using our previous function\n",
    "    url = build_query_string(base_url, params_dict)\n",
    "    \n",
    "    # Do the API call\n",
    "    data = requests.get(url).json()\n",
    "    \n",
    "    # Extract the data (drop the metadata key)\n",
    "    data = data[key_to_extract]\n",
    "    df = pd.DataFrame.from_records(data).transpose()\n",
    "    \n",
    "    # Keep only relevant colums\n",
    "    df = df[[\"4. close\"]]\n",
    "    colname = params_dict[\"symbol\"] # Use the symbol as column name\n",
    "    df.rename(columns={\"4. close\": colname}, inplace=True)\n",
    "   \n",
    "    # Transform price from string to float\n",
    "    df[colname] = df[colname].astype(np.float64)\n",
    "    \n",
    "    # Transform index to date\n",
    "    df.index = pd.to_datetime(df.index, format=\"%Y-%m-%d\")\n",
    "    \n",
    "    return df "
   ]
  }
 ],
 "metadata": {
  "kernelspec": {
   "display_name": "Python 3.10.6 ('dsf')",
   "language": "python",
   "name": "python3"
  },
  "language_info": {
   "codemirror_mode": {
    "name": "ipython",
    "version": 3
   },
   "file_extension": ".py",
   "mimetype": "text/x-python",
   "name": "python",
   "nbconvert_exporter": "python",
   "pygments_lexer": "ipython3",
   "version": "3.10.6"
  },
  "orig_nbformat": 4,
  "vscode": {
   "interpreter": {
    "hash": "3d263d15b78a78e170f08f86091fdf3477bff66b18e3e3298508eecfc9ac5163"
   }
  }
 },
 "nbformat": 4,
 "nbformat_minor": 2
}
